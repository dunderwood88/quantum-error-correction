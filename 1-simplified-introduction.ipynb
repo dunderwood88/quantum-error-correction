{
 "cells": [
  {
   "cell_type": "markdown",
   "metadata": {},
   "source": [
    "# 1 - Simplified Introduction\n",
    "\n",
    "The aim of these notebooks is to try and introduce some Quantum Error Correction (QEC) concepts without talking about QEC at all!\n",
    "\n",
    "A large part of many QEC protocols involves a decent portion of classical computation, which itself can be fairly complex. We will focus on these classical parts, and relate them back to quantum computing later.\n",
    "\n",
    "The following notebook introduces a graph puzzle that is entirely a classical computational problem, but relevant to a large number of QEC encoding/decoding protocols. The problem is described without using any confusing QEC language, in a way that is accessible to anyone with a background in classical computer science.\n",
    "\n",
    "\n",
    "## A classical computational graph puzzle\n",
    "\n",
    "Consider a periodic graph defined as coordinates over edges (`E`) and vertices (`V`) that are arranged in a `width x length` grid structure like so:"
   ]
  },
  {
   "cell_type": "code",
   "execution_count": 157,
   "metadata": {},
   "outputs": [
    {
     "name": "stdout",
     "output_type": "stream",
     "text": [
      "\n",
      "\u001b[1mD = 5x5 repeating graph\u001b[0m\n",
      "\n",
      "\u001b[40m       \u001b[0m\u001b[40m                                                                                        \u001b[0m\n",
      "\u001b[40m       \u001b[0m\u001b[40m                                                                                        \u001b[0m\n",
      "\u001b[40m       \u001b[0m\u001b[40m        \u001b[0m\u001b[40m\u001b[37mE0      \u001b[0m\u001b[40m        \u001b[0m\u001b[40m\u001b[37mE1      \u001b[0m\u001b[40m        \u001b[0m\u001b[40m\u001b[37mE2      \u001b[0m\u001b[40m        \u001b[0m\u001b[40m\u001b[37mE3      \u001b[0m\u001b[40m        \u001b[0m\u001b[40m\u001b[37mE4      \u001b[0m\u001b[40m        \u001b[0m\n",
      "\u001b[40m       \u001b[0m\u001b[40m                                                                                        \u001b[0m\n",
      "\u001b[40m       \u001b[0m\u001b[40m                                                                                        \u001b[0m\n",
      "\u001b[40m       \u001b[0m\u001b[40m\u001b[37mE5      \u001b[0m\u001b[40m\u001b[90mV0      \u001b[0m\u001b[40m\u001b[37mE6      \u001b[0m\u001b[40m\u001b[90mV1      \u001b[0m\u001b[40m\u001b[37mE7      \u001b[0m\u001b[40m\u001b[90mV2      \u001b[0m\u001b[40m\u001b[37mE8      \u001b[0m\u001b[40m\u001b[90mV3      \u001b[0m\u001b[40m\u001b[37mE9      \u001b[0m\u001b[40m\u001b[90mV4      \u001b[0m\u001b[40m\u001b[37mE5      \u001b[0m\n",
      "\u001b[40m       \u001b[0m\u001b[40m                                                                                        \u001b[0m\n",
      "\u001b[40m       \u001b[0m\u001b[40m                                                                                        \u001b[0m\n",
      "\u001b[40m       \u001b[0m\u001b[40m        \u001b[0m\u001b[40m\u001b[37mE10     \u001b[0m\u001b[40m        \u001b[0m\u001b[40m\u001b[37mE11     \u001b[0m\u001b[40m        \u001b[0m\u001b[40m\u001b[37mE12     \u001b[0m\u001b[40m        \u001b[0m\u001b[40m\u001b[37mE13     \u001b[0m\u001b[40m        \u001b[0m\u001b[40m\u001b[37mE14     \u001b[0m\u001b[40m        \u001b[0m\n",
      "\u001b[40m       \u001b[0m\u001b[40m                                                                                        \u001b[0m\n",
      "\u001b[40m       \u001b[0m\u001b[40m                                                                                        \u001b[0m\n",
      "\u001b[40m       \u001b[0m\u001b[40m\u001b[37mE15     \u001b[0m\u001b[40m\u001b[90mV5      \u001b[0m\u001b[40m\u001b[37mE16     \u001b[0m\u001b[40m\u001b[90mV6      \u001b[0m\u001b[40m\u001b[37mE17     \u001b[0m\u001b[40m\u001b[90mV7      \u001b[0m\u001b[40m\u001b[37mE18     \u001b[0m\u001b[40m\u001b[90mV8      \u001b[0m\u001b[40m\u001b[37mE19     \u001b[0m\u001b[40m\u001b[90mV9      \u001b[0m\u001b[40m\u001b[37mE15     \u001b[0m\n",
      "\u001b[40m       \u001b[0m\u001b[40m                                                                                        \u001b[0m\n",
      "\u001b[40m       \u001b[0m\u001b[40m                                                                                        \u001b[0m\n",
      "\u001b[40m       \u001b[0m\u001b[40m        \u001b[0m\u001b[40m\u001b[37mE20     \u001b[0m\u001b[40m        \u001b[0m\u001b[40m\u001b[37mE21     \u001b[0m\u001b[40m        \u001b[0m\u001b[40m\u001b[37mE22     \u001b[0m\u001b[40m        \u001b[0m\u001b[40m\u001b[37mE23     \u001b[0m\u001b[40m        \u001b[0m\u001b[40m\u001b[37mE24     \u001b[0m\u001b[40m        \u001b[0m\n",
      "\u001b[40m       \u001b[0m\u001b[40m                                                                                        \u001b[0m\n",
      "\u001b[40m       \u001b[0m\u001b[40m                                                                                        \u001b[0m\n",
      "\u001b[40m       \u001b[0m\u001b[40m\u001b[37mE25     \u001b[0m\u001b[40m\u001b[90mV10     \u001b[0m\u001b[40m\u001b[37mE26     \u001b[0m\u001b[40m\u001b[90mV11     \u001b[0m\u001b[40m\u001b[37mE27     \u001b[0m\u001b[40m\u001b[90mV12     \u001b[0m\u001b[40m\u001b[37mE28     \u001b[0m\u001b[40m\u001b[90mV13     \u001b[0m\u001b[40m\u001b[37mE29     \u001b[0m\u001b[40m\u001b[90mV14     \u001b[0m\u001b[40m\u001b[37mE25     \u001b[0m\n",
      "\u001b[40m       \u001b[0m\u001b[40m                                                                                        \u001b[0m\n",
      "\u001b[40m       \u001b[0m\u001b[40m                                                                                        \u001b[0m\n",
      "\u001b[40m       \u001b[0m\u001b[40m        \u001b[0m\u001b[40m\u001b[37mE30     \u001b[0m\u001b[40m        \u001b[0m\u001b[40m\u001b[37mE31     \u001b[0m\u001b[40m        \u001b[0m\u001b[40m\u001b[37mE32     \u001b[0m\u001b[40m        \u001b[0m\u001b[40m\u001b[37mE33     \u001b[0m\u001b[40m        \u001b[0m\u001b[40m\u001b[37mE34     \u001b[0m\u001b[40m        \u001b[0m\n",
      "\u001b[40m       \u001b[0m\u001b[40m                                                                                        \u001b[0m\n",
      "\u001b[40m       \u001b[0m\u001b[40m                                                                                        \u001b[0m\n",
      "\u001b[40m       \u001b[0m\u001b[40m\u001b[37mE35     \u001b[0m\u001b[40m\u001b[90mV15     \u001b[0m\u001b[40m\u001b[37mE36     \u001b[0m\u001b[40m\u001b[90mV16     \u001b[0m\u001b[40m\u001b[37mE37     \u001b[0m\u001b[40m\u001b[90mV17     \u001b[0m\u001b[40m\u001b[37mE38     \u001b[0m\u001b[40m\u001b[90mV18     \u001b[0m\u001b[40m\u001b[37mE39     \u001b[0m\u001b[40m\u001b[90mV19     \u001b[0m\u001b[40m\u001b[37mE35     \u001b[0m\n",
      "\u001b[40m       \u001b[0m\u001b[40m                                                                                        \u001b[0m\n",
      "\u001b[40m       \u001b[0m\u001b[40m                                                                                        \u001b[0m\n",
      "\u001b[40m       \u001b[0m\u001b[40m        \u001b[0m\u001b[40m\u001b[37mE40     \u001b[0m\u001b[40m        \u001b[0m\u001b[40m\u001b[37mE41     \u001b[0m\u001b[40m        \u001b[0m\u001b[40m\u001b[37mE42     \u001b[0m\u001b[40m        \u001b[0m\u001b[40m\u001b[37mE43     \u001b[0m\u001b[40m        \u001b[0m\u001b[40m\u001b[37mE44     \u001b[0m\u001b[40m        \u001b[0m\n",
      "\u001b[40m       \u001b[0m\u001b[40m                                                                                        \u001b[0m\n",
      "\u001b[40m       \u001b[0m\u001b[40m                                                                                        \u001b[0m\n",
      "\u001b[40m       \u001b[0m\u001b[40m\u001b[37mE45     \u001b[0m\u001b[40m\u001b[90mV20     \u001b[0m\u001b[40m\u001b[37mE46     \u001b[0m\u001b[40m\u001b[90mV21     \u001b[0m\u001b[40m\u001b[37mE47     \u001b[0m\u001b[40m\u001b[90mV22     \u001b[0m\u001b[40m\u001b[37mE48     \u001b[0m\u001b[40m\u001b[90mV23     \u001b[0m\u001b[40m\u001b[37mE49     \u001b[0m\u001b[40m\u001b[90mV24     \u001b[0m\u001b[40m\u001b[37mE45     \u001b[0m\n",
      "\u001b[40m       \u001b[0m\u001b[40m                                                                                        \u001b[0m\n",
      "\u001b[40m       \u001b[0m\u001b[40m                                                                                        \u001b[0m\n",
      "\u001b[40m       \u001b[0m\u001b[40m        \u001b[0m\u001b[40m\u001b[37mE0      \u001b[0m\u001b[40m        \u001b[0m\u001b[40m\u001b[37mE1      \u001b[0m\u001b[40m        \u001b[0m\u001b[40m\u001b[37mE2      \u001b[0m\u001b[40m        \u001b[0m\u001b[40m\u001b[37mE3      \u001b[0m\u001b[40m        \u001b[0m\u001b[40m\u001b[37mE4      \u001b[0m\u001b[40m        \u001b[0m\n",
      "\u001b[40m       \u001b[0m\u001b[40m                                                                                        \u001b[0m\n",
      "\u001b[40m       \u001b[0m\u001b[40m                                                                                        \u001b[0m\n",
      "\n"
     ]
    }
   ],
   "source": [
    "from src.classical.periodic_grid_graph import PeriodicGridGraph\n",
    "\n",
    "graph = PeriodicGridGraph(width=5, length=5)\n",
    "graph.draw_graph()"
   ]
  },
  {
   "cell_type": "markdown",
   "metadata": {},
   "source": [
    "This example has `width = length = 5`, and indexes run from left-to-right, top-to-bottom, for both edges and vertices.\n",
    "\n",
    "The graph has periodic boundary conditions, where the left/right columns and top/bottom rows of edges are identical. In other words, the graph \"wraps around\" like a pacman grid - if you travel beyond the top of the grid you will re-emerge at the bottom, and vice versa. Same goes for left/right.\n",
    "\n",
    "Each edge connects 2 adjacent vertices, and every vertex has a degree of 4 (i.e. is incident to 4 edges).\n",
    "\n",
    "Now we have defined the graph layout, let's introduce some rules:\n",
    "\n",
    "- both edges and vertices can exist in one of two states: `0` or `1`;\n",
    "- every edge and vertex is initialised in the `0` state;\n",
    "- if an edge is in the state `1`, then the state of its 2 adjacent vertices is also `1`;\n",
    "- only edges may have their state changed directly - the state of a vertex can only be changed indirectly as a result of the state change of an adjacent edge.\n",
    "\n",
    "To illustrate these, let's take a look at the same graph again, where all edges and vertices are ininitialsed in the `0` state:"
   ]
  },
  {
   "cell_type": "code",
   "execution_count": 158,
   "metadata": {},
   "outputs": [
    {
     "name": "stdout",
     "output_type": "stream",
     "text": [
      "\n",
      "\u001b[1mD = 5x5 repeating graph\u001b[0m\n",
      "\n",
      "\u001b[40m       \u001b[0m\u001b[40m                                                                                        \u001b[0m\n",
      "\u001b[40m       \u001b[0m\u001b[40m                                                                                        \u001b[0m\n",
      "\u001b[40m       \u001b[0m\u001b[40m        \u001b[0m\u001b[40m\u001b[37mE0      \u001b[0m\u001b[40m        \u001b[0m\u001b[40m\u001b[37mE1      \u001b[0m\u001b[40m        \u001b[0m\u001b[40m\u001b[37mE2      \u001b[0m\u001b[40m        \u001b[0m\u001b[40m\u001b[37mE3      \u001b[0m\u001b[40m        \u001b[0m\u001b[40m\u001b[37mE4      \u001b[0m\u001b[40m        \u001b[0m\n",
      "\u001b[40m       \u001b[0m\u001b[40m                                                                                        \u001b[0m\n",
      "\u001b[40m       \u001b[0m\u001b[40m                                                                                        \u001b[0m\n",
      "\u001b[40m       \u001b[0m\u001b[40m\u001b[37mE5      \u001b[0m\u001b[40m\u001b[90mV0      \u001b[0m\u001b[40m\u001b[37mE6      \u001b[0m\u001b[40m\u001b[90mV1      \u001b[0m\u001b[40m\u001b[37mE7      \u001b[0m\u001b[40m\u001b[90mV2      \u001b[0m\u001b[40m\u001b[37mE8      \u001b[0m\u001b[40m\u001b[90mV3      \u001b[0m\u001b[40m\u001b[37mE9      \u001b[0m\u001b[40m\u001b[90mV4      \u001b[0m\u001b[40m\u001b[37mE5      \u001b[0m\n",
      "\u001b[40m       \u001b[0m\u001b[40m                                                                                        \u001b[0m\n",
      "\u001b[40m       \u001b[0m\u001b[40m                                                                                        \u001b[0m\n",
      "\u001b[40m       \u001b[0m\u001b[40m        \u001b[0m\u001b[40m\u001b[37mE10     \u001b[0m\u001b[40m        \u001b[0m\u001b[40m\u001b[37mE11     \u001b[0m\u001b[40m        \u001b[0m\u001b[40m\u001b[37mE12     \u001b[0m\u001b[40m        \u001b[0m\u001b[40m\u001b[37mE13     \u001b[0m\u001b[40m        \u001b[0m\u001b[40m\u001b[37mE14     \u001b[0m\u001b[40m        \u001b[0m\n",
      "\u001b[40m       \u001b[0m\u001b[40m                                                                                        \u001b[0m\n",
      "\u001b[40m       \u001b[0m\u001b[40m                                                                                        \u001b[0m\n",
      "\u001b[40m       \u001b[0m\u001b[40m\u001b[37mE15     \u001b[0m\u001b[40m\u001b[90mV5      \u001b[0m\u001b[40m\u001b[37mE16     \u001b[0m\u001b[40m\u001b[90mV6      \u001b[0m\u001b[40m\u001b[37mE17     \u001b[0m\u001b[40m\u001b[90mV7      \u001b[0m\u001b[40m\u001b[37mE18     \u001b[0m\u001b[40m\u001b[90mV8      \u001b[0m\u001b[40m\u001b[37mE19     \u001b[0m\u001b[40m\u001b[90mV9      \u001b[0m\u001b[40m\u001b[37mE15     \u001b[0m\n",
      "\u001b[40m       \u001b[0m\u001b[40m                                                                                        \u001b[0m\n",
      "\u001b[40m       \u001b[0m\u001b[40m                                                                                        \u001b[0m\n",
      "\u001b[40m       \u001b[0m\u001b[40m        \u001b[0m\u001b[40m\u001b[37mE20     \u001b[0m\u001b[40m        \u001b[0m\u001b[40m\u001b[37mE21     \u001b[0m\u001b[40m        \u001b[0m\u001b[40m\u001b[37mE22     \u001b[0m\u001b[40m        \u001b[0m\u001b[40m\u001b[37mE23     \u001b[0m\u001b[40m        \u001b[0m\u001b[40m\u001b[37mE24     \u001b[0m\u001b[40m        \u001b[0m\n",
      "\u001b[40m       \u001b[0m\u001b[40m                                                                                        \u001b[0m\n",
      "\u001b[40m       \u001b[0m\u001b[40m                                                                                        \u001b[0m\n",
      "\u001b[40m       \u001b[0m\u001b[40m\u001b[37mE25     \u001b[0m\u001b[40m\u001b[90mV10     \u001b[0m\u001b[40m\u001b[37mE26     \u001b[0m\u001b[40m\u001b[90mV11     \u001b[0m\u001b[40m\u001b[37mE27     \u001b[0m\u001b[40m\u001b[90mV12     \u001b[0m\u001b[40m\u001b[37mE28     \u001b[0m\u001b[40m\u001b[90mV13     \u001b[0m\u001b[40m\u001b[37mE29     \u001b[0m\u001b[40m\u001b[90mV14     \u001b[0m\u001b[40m\u001b[37mE25     \u001b[0m\n",
      "\u001b[40m       \u001b[0m\u001b[40m                                                                                        \u001b[0m\n",
      "\u001b[40m       \u001b[0m\u001b[40m                                                                                        \u001b[0m\n",
      "\u001b[40m       \u001b[0m\u001b[40m        \u001b[0m\u001b[40m\u001b[37mE30     \u001b[0m\u001b[40m        \u001b[0m\u001b[40m\u001b[37mE31     \u001b[0m\u001b[40m        \u001b[0m\u001b[40m\u001b[37mE32     \u001b[0m\u001b[40m        \u001b[0m\u001b[40m\u001b[37mE33     \u001b[0m\u001b[40m        \u001b[0m\u001b[40m\u001b[37mE34     \u001b[0m\u001b[40m        \u001b[0m\n",
      "\u001b[40m       \u001b[0m\u001b[40m                                                                                        \u001b[0m\n",
      "\u001b[40m       \u001b[0m\u001b[40m                                                                                        \u001b[0m\n",
      "\u001b[40m       \u001b[0m\u001b[40m\u001b[37mE35     \u001b[0m\u001b[40m\u001b[90mV15     \u001b[0m\u001b[40m\u001b[37mE36     \u001b[0m\u001b[40m\u001b[90mV16     \u001b[0m\u001b[40m\u001b[37mE37     \u001b[0m\u001b[40m\u001b[90mV17     \u001b[0m\u001b[40m\u001b[37mE38     \u001b[0m\u001b[40m\u001b[90mV18     \u001b[0m\u001b[40m\u001b[37mE39     \u001b[0m\u001b[40m\u001b[90mV19     \u001b[0m\u001b[40m\u001b[37mE35     \u001b[0m\n",
      "\u001b[40m       \u001b[0m\u001b[40m                                                                                        \u001b[0m\n",
      "\u001b[40m       \u001b[0m\u001b[40m                                                                                        \u001b[0m\n",
      "\u001b[40m       \u001b[0m\u001b[40m        \u001b[0m\u001b[40m\u001b[37mE40     \u001b[0m\u001b[40m        \u001b[0m\u001b[40m\u001b[37mE41     \u001b[0m\u001b[40m        \u001b[0m\u001b[40m\u001b[37mE42     \u001b[0m\u001b[40m        \u001b[0m\u001b[40m\u001b[37mE43     \u001b[0m\u001b[40m        \u001b[0m\u001b[40m\u001b[37mE44     \u001b[0m\u001b[40m        \u001b[0m\n",
      "\u001b[40m       \u001b[0m\u001b[40m                                                                                        \u001b[0m\n",
      "\u001b[40m       \u001b[0m\u001b[40m                                                                                        \u001b[0m\n",
      "\u001b[40m       \u001b[0m\u001b[40m\u001b[37mE45     \u001b[0m\u001b[40m\u001b[90mV20     \u001b[0m\u001b[40m\u001b[37mE46     \u001b[0m\u001b[40m\u001b[90mV21     \u001b[0m\u001b[40m\u001b[37mE47     \u001b[0m\u001b[40m\u001b[90mV22     \u001b[0m\u001b[40m\u001b[37mE48     \u001b[0m\u001b[40m\u001b[90mV23     \u001b[0m\u001b[40m\u001b[37mE49     \u001b[0m\u001b[40m\u001b[90mV24     \u001b[0m\u001b[40m\u001b[37mE45     \u001b[0m\n",
      "\u001b[40m       \u001b[0m\u001b[40m                                                                                        \u001b[0m\n",
      "\u001b[40m       \u001b[0m\u001b[40m                                                                                        \u001b[0m\n",
      "\u001b[40m       \u001b[0m\u001b[40m        \u001b[0m\u001b[40m\u001b[37mE0      \u001b[0m\u001b[40m        \u001b[0m\u001b[40m\u001b[37mE1      \u001b[0m\u001b[40m        \u001b[0m\u001b[40m\u001b[37mE2      \u001b[0m\u001b[40m        \u001b[0m\u001b[40m\u001b[37mE3      \u001b[0m\u001b[40m        \u001b[0m\u001b[40m\u001b[37mE4      \u001b[0m\u001b[40m        \u001b[0m\n",
      "\u001b[40m       \u001b[0m\u001b[40m                                                                                        \u001b[0m\n",
      "\u001b[40m       \u001b[0m\u001b[40m                                                                                        \u001b[0m\n",
      "\n"
     ]
    }
   ],
   "source": [
    "graph.draw_graph()"
   ]
  },
  {
   "cell_type": "markdown",
   "metadata": {},
   "source": [
    "When edges get flipped to `1`, they turn red; when vertices get flipped to `1`, they turn yellow.\n",
    "\n",
    "Let's see what happens when we flip the state of edge `E17`:"
   ]
  },
  {
   "cell_type": "code",
   "execution_count": 159,
   "metadata": {},
   "outputs": [
    {
     "name": "stdout",
     "output_type": "stream",
     "text": [
      "\n",
      "\u001b[1mD = 5x5 repeating graph\u001b[0m\n",
      "\n",
      "\u001b[40m       \u001b[0m\u001b[40m                                                                                        \u001b[0m\n",
      "\u001b[40m       \u001b[0m\u001b[40m                                                                                        \u001b[0m\n",
      "\u001b[40m       \u001b[0m\u001b[40m        \u001b[0m\u001b[40m\u001b[37mE0      \u001b[0m\u001b[40m        \u001b[0m\u001b[40m\u001b[37mE1      \u001b[0m\u001b[40m        \u001b[0m\u001b[40m\u001b[37mE2      \u001b[0m\u001b[40m        \u001b[0m\u001b[40m\u001b[37mE3      \u001b[0m\u001b[40m        \u001b[0m\u001b[40m\u001b[37mE4      \u001b[0m\u001b[40m        \u001b[0m\n",
      "\u001b[40m       \u001b[0m\u001b[40m                                                                                        \u001b[0m\n",
      "\u001b[40m       \u001b[0m\u001b[40m                                                                                        \u001b[0m\n",
      "\u001b[40m       \u001b[0m\u001b[40m\u001b[37mE5      \u001b[0m\u001b[40m\u001b[90mV0      \u001b[0m\u001b[40m\u001b[37mE6      \u001b[0m\u001b[40m\u001b[90mV1      \u001b[0m\u001b[40m\u001b[37mE7      \u001b[0m\u001b[40m\u001b[90mV2      \u001b[0m\u001b[40m\u001b[37mE8      \u001b[0m\u001b[40m\u001b[90mV3      \u001b[0m\u001b[40m\u001b[37mE9      \u001b[0m\u001b[40m\u001b[90mV4      \u001b[0m\u001b[40m\u001b[37mE5      \u001b[0m\n",
      "\u001b[40m       \u001b[0m\u001b[40m                                                                                        \u001b[0m\n",
      "\u001b[40m       \u001b[0m\u001b[40m                                                                                        \u001b[0m\n",
      "\u001b[40m       \u001b[0m\u001b[40m        \u001b[0m\u001b[40m\u001b[37mE10     \u001b[0m\u001b[40m        \u001b[0m\u001b[40m\u001b[37mE11     \u001b[0m\u001b[40m        \u001b[0m\u001b[40m\u001b[37mE12     \u001b[0m\u001b[40m        \u001b[0m\u001b[40m\u001b[37mE13     \u001b[0m\u001b[40m        \u001b[0m\u001b[40m\u001b[37mE14     \u001b[0m\u001b[40m        \u001b[0m\n",
      "\u001b[40m       \u001b[0m\u001b[40m                                                                                        \u001b[0m\n",
      "\u001b[40m       \u001b[0m\u001b[40m                                                                                        \u001b[0m\n",
      "\u001b[40m       \u001b[0m\u001b[40m\u001b[37mE15     \u001b[0m\u001b[40m\u001b[90mV5      \u001b[0m\u001b[40m\u001b[37mE16     \u001b[0m\u001b[1m\u001b[40m\u001b[33mV6      \u001b[0m\u001b[40m\u001b[31mE17     \u001b[0m\u001b[1m\u001b[40m\u001b[33mV7      \u001b[0m\u001b[40m\u001b[37mE18     \u001b[0m\u001b[40m\u001b[90mV8      \u001b[0m\u001b[40m\u001b[37mE19     \u001b[0m\u001b[40m\u001b[90mV9      \u001b[0m\u001b[40m\u001b[37mE15     \u001b[0m\n",
      "\u001b[40m       \u001b[0m\u001b[40m                                                                                        \u001b[0m\n",
      "\u001b[40m       \u001b[0m\u001b[40m                                                                                        \u001b[0m\n",
      "\u001b[40m       \u001b[0m\u001b[40m        \u001b[0m\u001b[40m\u001b[37mE20     \u001b[0m\u001b[40m        \u001b[0m\u001b[40m\u001b[37mE21     \u001b[0m\u001b[40m        \u001b[0m\u001b[40m\u001b[37mE22     \u001b[0m\u001b[40m        \u001b[0m\u001b[40m\u001b[37mE23     \u001b[0m\u001b[40m        \u001b[0m\u001b[40m\u001b[37mE24     \u001b[0m\u001b[40m        \u001b[0m\n",
      "\u001b[40m       \u001b[0m\u001b[40m                                                                                        \u001b[0m\n",
      "\u001b[40m       \u001b[0m\u001b[40m                                                                                        \u001b[0m\n",
      "\u001b[40m       \u001b[0m\u001b[40m\u001b[37mE25     \u001b[0m\u001b[40m\u001b[90mV10     \u001b[0m\u001b[40m\u001b[37mE26     \u001b[0m\u001b[40m\u001b[90mV11     \u001b[0m\u001b[40m\u001b[37mE27     \u001b[0m\u001b[40m\u001b[90mV12     \u001b[0m\u001b[40m\u001b[37mE28     \u001b[0m\u001b[40m\u001b[90mV13     \u001b[0m\u001b[40m\u001b[37mE29     \u001b[0m\u001b[40m\u001b[90mV14     \u001b[0m\u001b[40m\u001b[37mE25     \u001b[0m\n",
      "\u001b[40m       \u001b[0m\u001b[40m                                                                                        \u001b[0m\n",
      "\u001b[40m       \u001b[0m\u001b[40m                                                                                        \u001b[0m\n",
      "\u001b[40m       \u001b[0m\u001b[40m        \u001b[0m\u001b[40m\u001b[37mE30     \u001b[0m\u001b[40m        \u001b[0m\u001b[40m\u001b[37mE31     \u001b[0m\u001b[40m        \u001b[0m\u001b[40m\u001b[37mE32     \u001b[0m\u001b[40m        \u001b[0m\u001b[40m\u001b[37mE33     \u001b[0m\u001b[40m        \u001b[0m\u001b[40m\u001b[37mE34     \u001b[0m\u001b[40m        \u001b[0m\n",
      "\u001b[40m       \u001b[0m\u001b[40m                                                                                        \u001b[0m\n",
      "\u001b[40m       \u001b[0m\u001b[40m                                                                                        \u001b[0m\n",
      "\u001b[40m       \u001b[0m\u001b[40m\u001b[37mE35     \u001b[0m\u001b[40m\u001b[90mV15     \u001b[0m\u001b[40m\u001b[37mE36     \u001b[0m\u001b[40m\u001b[90mV16     \u001b[0m\u001b[40m\u001b[37mE37     \u001b[0m\u001b[40m\u001b[90mV17     \u001b[0m\u001b[40m\u001b[37mE38     \u001b[0m\u001b[40m\u001b[90mV18     \u001b[0m\u001b[40m\u001b[37mE39     \u001b[0m\u001b[40m\u001b[90mV19     \u001b[0m\u001b[40m\u001b[37mE35     \u001b[0m\n",
      "\u001b[40m       \u001b[0m\u001b[40m                                                                                        \u001b[0m\n",
      "\u001b[40m       \u001b[0m\u001b[40m                                                                                        \u001b[0m\n",
      "\u001b[40m       \u001b[0m\u001b[40m        \u001b[0m\u001b[40m\u001b[37mE40     \u001b[0m\u001b[40m        \u001b[0m\u001b[40m\u001b[37mE41     \u001b[0m\u001b[40m        \u001b[0m\u001b[40m\u001b[37mE42     \u001b[0m\u001b[40m        \u001b[0m\u001b[40m\u001b[37mE43     \u001b[0m\u001b[40m        \u001b[0m\u001b[40m\u001b[37mE44     \u001b[0m\u001b[40m        \u001b[0m\n",
      "\u001b[40m       \u001b[0m\u001b[40m                                                                                        \u001b[0m\n",
      "\u001b[40m       \u001b[0m\u001b[40m                                                                                        \u001b[0m\n",
      "\u001b[40m       \u001b[0m\u001b[40m\u001b[37mE45     \u001b[0m\u001b[40m\u001b[90mV20     \u001b[0m\u001b[40m\u001b[37mE46     \u001b[0m\u001b[40m\u001b[90mV21     \u001b[0m\u001b[40m\u001b[37mE47     \u001b[0m\u001b[40m\u001b[90mV22     \u001b[0m\u001b[40m\u001b[37mE48     \u001b[0m\u001b[40m\u001b[90mV23     \u001b[0m\u001b[40m\u001b[37mE49     \u001b[0m\u001b[40m\u001b[90mV24     \u001b[0m\u001b[40m\u001b[37mE45     \u001b[0m\n",
      "\u001b[40m       \u001b[0m\u001b[40m                                                                                        \u001b[0m\n",
      "\u001b[40m       \u001b[0m\u001b[40m                                                                                        \u001b[0m\n",
      "\u001b[40m       \u001b[0m\u001b[40m        \u001b[0m\u001b[40m\u001b[37mE0      \u001b[0m\u001b[40m        \u001b[0m\u001b[40m\u001b[37mE1      \u001b[0m\u001b[40m        \u001b[0m\u001b[40m\u001b[37mE2      \u001b[0m\u001b[40m        \u001b[0m\u001b[40m\u001b[37mE3      \u001b[0m\u001b[40m        \u001b[0m\u001b[40m\u001b[37mE4      \u001b[0m\u001b[40m        \u001b[0m\n",
      "\u001b[40m       \u001b[0m\u001b[40m                                                                                        \u001b[0m\n",
      "\u001b[40m       \u001b[0m\u001b[40m                                                                                        \u001b[0m\n",
      "\n"
     ]
    }
   ],
   "source": [
    "edges_to_flip = [17]\n",
    "flipped_vertices = graph.mark_vertices(edges_to_flip)\n",
    "\n",
    "graph.draw_graph(edges_to_flip, flipped_vertices)\n"
   ]
  },
  {
   "cell_type": "markdown",
   "metadata": {},
   "source": [
    "We see here that by flipping edge `E17` from `0` to `1` we have also indirectly flipped the state of vertices `V6` and `V7` from `0` to `1`.\n",
    "\n",
    "What happens if we also flip edge `E22`? Let's have a look:"
   ]
  },
  {
   "cell_type": "code",
   "execution_count": 160,
   "metadata": {},
   "outputs": [
    {
     "name": "stdout",
     "output_type": "stream",
     "text": [
      "\n",
      "\u001b[1mD = 5x5 repeating graph\u001b[0m\n",
      "\n",
      "\u001b[40m       \u001b[0m\u001b[40m                                                                                        \u001b[0m\n",
      "\u001b[40m       \u001b[0m\u001b[40m                                                                                        \u001b[0m\n",
      "\u001b[40m       \u001b[0m\u001b[40m        \u001b[0m\u001b[40m\u001b[37mE0      \u001b[0m\u001b[40m        \u001b[0m\u001b[40m\u001b[37mE1      \u001b[0m\u001b[40m        \u001b[0m\u001b[40m\u001b[37mE2      \u001b[0m\u001b[40m        \u001b[0m\u001b[40m\u001b[37mE3      \u001b[0m\u001b[40m        \u001b[0m\u001b[40m\u001b[37mE4      \u001b[0m\u001b[40m        \u001b[0m\n",
      "\u001b[40m       \u001b[0m\u001b[40m                                                                                        \u001b[0m\n",
      "\u001b[40m       \u001b[0m\u001b[40m                                                                                        \u001b[0m\n",
      "\u001b[40m       \u001b[0m\u001b[40m\u001b[37mE5      \u001b[0m\u001b[40m\u001b[90mV0      \u001b[0m\u001b[40m\u001b[37mE6      \u001b[0m\u001b[40m\u001b[90mV1      \u001b[0m\u001b[40m\u001b[37mE7      \u001b[0m\u001b[40m\u001b[90mV2      \u001b[0m\u001b[40m\u001b[37mE8      \u001b[0m\u001b[40m\u001b[90mV3      \u001b[0m\u001b[40m\u001b[37mE9      \u001b[0m\u001b[40m\u001b[90mV4      \u001b[0m\u001b[40m\u001b[37mE5      \u001b[0m\n",
      "\u001b[40m       \u001b[0m\u001b[40m                                                                                        \u001b[0m\n",
      "\u001b[40m       \u001b[0m\u001b[40m                                                                                        \u001b[0m\n",
      "\u001b[40m       \u001b[0m\u001b[40m        \u001b[0m\u001b[40m\u001b[37mE10     \u001b[0m\u001b[40m        \u001b[0m\u001b[40m\u001b[37mE11     \u001b[0m\u001b[40m        \u001b[0m\u001b[40m\u001b[37mE12     \u001b[0m\u001b[40m        \u001b[0m\u001b[40m\u001b[37mE13     \u001b[0m\u001b[40m        \u001b[0m\u001b[40m\u001b[37mE14     \u001b[0m\u001b[40m        \u001b[0m\n",
      "\u001b[40m       \u001b[0m\u001b[40m                                                                                        \u001b[0m\n",
      "\u001b[40m       \u001b[0m\u001b[40m                                                                                        \u001b[0m\n",
      "\u001b[40m       \u001b[0m\u001b[40m\u001b[37mE15     \u001b[0m\u001b[40m\u001b[90mV5      \u001b[0m\u001b[40m\u001b[37mE16     \u001b[0m\u001b[1m\u001b[40m\u001b[33mV6      \u001b[0m\u001b[40m\u001b[31mE17     \u001b[0m\u001b[40m\u001b[90mV7      \u001b[0m\u001b[40m\u001b[37mE18     \u001b[0m\u001b[40m\u001b[90mV8      \u001b[0m\u001b[40m\u001b[37mE19     \u001b[0m\u001b[40m\u001b[90mV9      \u001b[0m\u001b[40m\u001b[37mE15     \u001b[0m\n",
      "\u001b[40m       \u001b[0m\u001b[40m                                                                                        \u001b[0m\n",
      "\u001b[40m       \u001b[0m\u001b[40m                                                                                        \u001b[0m\n",
      "\u001b[40m       \u001b[0m\u001b[40m        \u001b[0m\u001b[40m\u001b[37mE20     \u001b[0m\u001b[40m        \u001b[0m\u001b[40m\u001b[37mE21     \u001b[0m\u001b[40m        \u001b[0m\u001b[40m\u001b[31mE22     \u001b[0m\u001b[40m        \u001b[0m\u001b[40m\u001b[37mE23     \u001b[0m\u001b[40m        \u001b[0m\u001b[40m\u001b[37mE24     \u001b[0m\u001b[40m        \u001b[0m\n",
      "\u001b[40m       \u001b[0m\u001b[40m                                                                                        \u001b[0m\n",
      "\u001b[40m       \u001b[0m\u001b[40m                                                                                        \u001b[0m\n",
      "\u001b[40m       \u001b[0m\u001b[40m\u001b[37mE25     \u001b[0m\u001b[40m\u001b[90mV10     \u001b[0m\u001b[40m\u001b[37mE26     \u001b[0m\u001b[40m\u001b[90mV11     \u001b[0m\u001b[40m\u001b[37mE27     \u001b[0m\u001b[1m\u001b[40m\u001b[33mV12     \u001b[0m\u001b[40m\u001b[37mE28     \u001b[0m\u001b[40m\u001b[90mV13     \u001b[0m\u001b[40m\u001b[37mE29     \u001b[0m\u001b[40m\u001b[90mV14     \u001b[0m\u001b[40m\u001b[37mE25     \u001b[0m\n",
      "\u001b[40m       \u001b[0m\u001b[40m                                                                                        \u001b[0m\n",
      "\u001b[40m       \u001b[0m\u001b[40m                                                                                        \u001b[0m\n",
      "\u001b[40m       \u001b[0m\u001b[40m        \u001b[0m\u001b[40m\u001b[37mE30     \u001b[0m\u001b[40m        \u001b[0m\u001b[40m\u001b[37mE31     \u001b[0m\u001b[40m        \u001b[0m\u001b[40m\u001b[37mE32     \u001b[0m\u001b[40m        \u001b[0m\u001b[40m\u001b[37mE33     \u001b[0m\u001b[40m        \u001b[0m\u001b[40m\u001b[37mE34     \u001b[0m\u001b[40m        \u001b[0m\n",
      "\u001b[40m       \u001b[0m\u001b[40m                                                                                        \u001b[0m\n",
      "\u001b[40m       \u001b[0m\u001b[40m                                                                                        \u001b[0m\n",
      "\u001b[40m       \u001b[0m\u001b[40m\u001b[37mE35     \u001b[0m\u001b[40m\u001b[90mV15     \u001b[0m\u001b[40m\u001b[37mE36     \u001b[0m\u001b[40m\u001b[90mV16     \u001b[0m\u001b[40m\u001b[37mE37     \u001b[0m\u001b[40m\u001b[90mV17     \u001b[0m\u001b[40m\u001b[37mE38     \u001b[0m\u001b[40m\u001b[90mV18     \u001b[0m\u001b[40m\u001b[37mE39     \u001b[0m\u001b[40m\u001b[90mV19     \u001b[0m\u001b[40m\u001b[37mE35     \u001b[0m\n",
      "\u001b[40m       \u001b[0m\u001b[40m                                                                                        \u001b[0m\n",
      "\u001b[40m       \u001b[0m\u001b[40m                                                                                        \u001b[0m\n",
      "\u001b[40m       \u001b[0m\u001b[40m        \u001b[0m\u001b[40m\u001b[37mE40     \u001b[0m\u001b[40m        \u001b[0m\u001b[40m\u001b[37mE41     \u001b[0m\u001b[40m        \u001b[0m\u001b[40m\u001b[37mE42     \u001b[0m\u001b[40m        \u001b[0m\u001b[40m\u001b[37mE43     \u001b[0m\u001b[40m        \u001b[0m\u001b[40m\u001b[37mE44     \u001b[0m\u001b[40m        \u001b[0m\n",
      "\u001b[40m       \u001b[0m\u001b[40m                                                                                        \u001b[0m\n",
      "\u001b[40m       \u001b[0m\u001b[40m                                                                                        \u001b[0m\n",
      "\u001b[40m       \u001b[0m\u001b[40m\u001b[37mE45     \u001b[0m\u001b[40m\u001b[90mV20     \u001b[0m\u001b[40m\u001b[37mE46     \u001b[0m\u001b[40m\u001b[90mV21     \u001b[0m\u001b[40m\u001b[37mE47     \u001b[0m\u001b[40m\u001b[90mV22     \u001b[0m\u001b[40m\u001b[37mE48     \u001b[0m\u001b[40m\u001b[90mV23     \u001b[0m\u001b[40m\u001b[37mE49     \u001b[0m\u001b[40m\u001b[90mV24     \u001b[0m\u001b[40m\u001b[37mE45     \u001b[0m\n",
      "\u001b[40m       \u001b[0m\u001b[40m                                                                                        \u001b[0m\n",
      "\u001b[40m       \u001b[0m\u001b[40m                                                                                        \u001b[0m\n",
      "\u001b[40m       \u001b[0m\u001b[40m        \u001b[0m\u001b[40m\u001b[37mE0      \u001b[0m\u001b[40m        \u001b[0m\u001b[40m\u001b[37mE1      \u001b[0m\u001b[40m        \u001b[0m\u001b[40m\u001b[37mE2      \u001b[0m\u001b[40m        \u001b[0m\u001b[40m\u001b[37mE3      \u001b[0m\u001b[40m        \u001b[0m\u001b[40m\u001b[37mE4      \u001b[0m\u001b[40m        \u001b[0m\n",
      "\u001b[40m       \u001b[0m\u001b[40m                                                                                        \u001b[0m\n",
      "\u001b[40m       \u001b[0m\u001b[40m                                                                                        \u001b[0m\n",
      "\n"
     ]
    }
   ],
   "source": [
    "edges_to_flip = [17, 22]\n",
    "flipped_vertices = graph.mark_vertices(edges_to_flip)\n",
    "\n",
    "graph.draw_graph(edges_to_flip, flipped_vertices)"
   ]
  },
  {
   "cell_type": "markdown",
   "metadata": {},
   "source": [
    "We see here that by flipping edges `E17` and `E22` we have also flipped the state of vertices `V7` and `V12.\n",
    "\n",
    "But since both `E17` and `E22` have each flipped the state of `V7`, that vertex goes back to the original `0` state.\n",
    "This introduces the concept of the flipped edge \"chain\": given a chain of adjacent flipped-edges, only vertices at the ends of the chain will be flipped!\n",
    "\n",
    "From all this, we see that <u>flipped vertices always appear in pairs</u>.\n",
    "\n",
    "What happens when we flip the states of edges `E21` and `E27`?"
   ]
  },
  {
   "cell_type": "code",
   "execution_count": 161,
   "metadata": {},
   "outputs": [
    {
     "name": "stdout",
     "output_type": "stream",
     "text": [
      "\n",
      "\u001b[1mD = 5x5 repeating graph\u001b[0m\n",
      "\n",
      "\u001b[40m       \u001b[0m\u001b[40m                                                                                        \u001b[0m\n",
      "\u001b[40m       \u001b[0m\u001b[40m                                                                                        \u001b[0m\n",
      "\u001b[40m       \u001b[0m\u001b[40m        \u001b[0m\u001b[40m\u001b[37mE0      \u001b[0m\u001b[40m        \u001b[0m\u001b[40m\u001b[37mE1      \u001b[0m\u001b[40m        \u001b[0m\u001b[40m\u001b[37mE2      \u001b[0m\u001b[40m        \u001b[0m\u001b[40m\u001b[37mE3      \u001b[0m\u001b[40m        \u001b[0m\u001b[40m\u001b[37mE4      \u001b[0m\u001b[40m        \u001b[0m\n",
      "\u001b[40m       \u001b[0m\u001b[40m                                                                                        \u001b[0m\n",
      "\u001b[40m       \u001b[0m\u001b[40m                                                                                        \u001b[0m\n",
      "\u001b[40m       \u001b[0m\u001b[40m\u001b[37mE5      \u001b[0m\u001b[40m\u001b[90mV0      \u001b[0m\u001b[40m\u001b[37mE6      \u001b[0m\u001b[40m\u001b[90mV1      \u001b[0m\u001b[40m\u001b[37mE7      \u001b[0m\u001b[40m\u001b[90mV2      \u001b[0m\u001b[40m\u001b[37mE8      \u001b[0m\u001b[40m\u001b[90mV3      \u001b[0m\u001b[40m\u001b[37mE9      \u001b[0m\u001b[40m\u001b[90mV4      \u001b[0m\u001b[40m\u001b[37mE5      \u001b[0m\n",
      "\u001b[40m       \u001b[0m\u001b[40m                                                                                        \u001b[0m\n",
      "\u001b[40m       \u001b[0m\u001b[40m                                                                                        \u001b[0m\n",
      "\u001b[40m       \u001b[0m\u001b[40m        \u001b[0m\u001b[40m\u001b[37mE10     \u001b[0m\u001b[40m        \u001b[0m\u001b[40m\u001b[37mE11     \u001b[0m\u001b[40m        \u001b[0m\u001b[40m\u001b[37mE12     \u001b[0m\u001b[40m        \u001b[0m\u001b[40m\u001b[37mE13     \u001b[0m\u001b[40m        \u001b[0m\u001b[40m\u001b[37mE14     \u001b[0m\u001b[40m        \u001b[0m\n",
      "\u001b[40m       \u001b[0m\u001b[40m                                                                                        \u001b[0m\n",
      "\u001b[40m       \u001b[0m\u001b[40m                                                                                        \u001b[0m\n",
      "\u001b[40m       \u001b[0m\u001b[40m\u001b[37mE15     \u001b[0m\u001b[40m\u001b[90mV5      \u001b[0m\u001b[40m\u001b[37mE16     \u001b[0m\u001b[1m\u001b[40m\u001b[33mV6      \u001b[0m\u001b[40m\u001b[37mE17     \u001b[0m\u001b[40m\u001b[90mV7      \u001b[0m\u001b[40m\u001b[37mE18     \u001b[0m\u001b[40m\u001b[90mV8      \u001b[0m\u001b[40m\u001b[37mE19     \u001b[0m\u001b[40m\u001b[90mV9      \u001b[0m\u001b[40m\u001b[37mE15     \u001b[0m\n",
      "\u001b[40m       \u001b[0m\u001b[40m                                                                                        \u001b[0m\n",
      "\u001b[40m       \u001b[0m\u001b[40m                                                                                        \u001b[0m\n",
      "\u001b[40m       \u001b[0m\u001b[40m        \u001b[0m\u001b[40m\u001b[37mE20     \u001b[0m\u001b[40m        \u001b[0m\u001b[40m\u001b[31mE21     \u001b[0m\u001b[40m        \u001b[0m\u001b[40m\u001b[37mE22     \u001b[0m\u001b[40m        \u001b[0m\u001b[40m\u001b[37mE23     \u001b[0m\u001b[40m        \u001b[0m\u001b[40m\u001b[37mE24     \u001b[0m\u001b[40m        \u001b[0m\n",
      "\u001b[40m       \u001b[0m\u001b[40m                                                                                        \u001b[0m\n",
      "\u001b[40m       \u001b[0m\u001b[40m                                                                                        \u001b[0m\n",
      "\u001b[40m       \u001b[0m\u001b[40m\u001b[37mE25     \u001b[0m\u001b[40m\u001b[90mV10     \u001b[0m\u001b[40m\u001b[37mE26     \u001b[0m\u001b[40m\u001b[90mV11     \u001b[0m\u001b[40m\u001b[31mE27     \u001b[0m\u001b[1m\u001b[40m\u001b[33mV12     \u001b[0m\u001b[40m\u001b[37mE28     \u001b[0m\u001b[40m\u001b[90mV13     \u001b[0m\u001b[40m\u001b[37mE29     \u001b[0m\u001b[40m\u001b[90mV14     \u001b[0m\u001b[40m\u001b[37mE25     \u001b[0m\n",
      "\u001b[40m       \u001b[0m\u001b[40m                                                                                        \u001b[0m\n",
      "\u001b[40m       \u001b[0m\u001b[40m                                                                                        \u001b[0m\n",
      "\u001b[40m       \u001b[0m\u001b[40m        \u001b[0m\u001b[40m\u001b[37mE30     \u001b[0m\u001b[40m        \u001b[0m\u001b[40m\u001b[37mE31     \u001b[0m\u001b[40m        \u001b[0m\u001b[40m\u001b[37mE32     \u001b[0m\u001b[40m        \u001b[0m\u001b[40m\u001b[37mE33     \u001b[0m\u001b[40m        \u001b[0m\u001b[40m\u001b[37mE34     \u001b[0m\u001b[40m        \u001b[0m\n",
      "\u001b[40m       \u001b[0m\u001b[40m                                                                                        \u001b[0m\n",
      "\u001b[40m       \u001b[0m\u001b[40m                                                                                        \u001b[0m\n",
      "\u001b[40m       \u001b[0m\u001b[40m\u001b[37mE35     \u001b[0m\u001b[40m\u001b[90mV15     \u001b[0m\u001b[40m\u001b[37mE36     \u001b[0m\u001b[40m\u001b[90mV16     \u001b[0m\u001b[40m\u001b[37mE37     \u001b[0m\u001b[40m\u001b[90mV17     \u001b[0m\u001b[40m\u001b[37mE38     \u001b[0m\u001b[40m\u001b[90mV18     \u001b[0m\u001b[40m\u001b[37mE39     \u001b[0m\u001b[40m\u001b[90mV19     \u001b[0m\u001b[40m\u001b[37mE35     \u001b[0m\n",
      "\u001b[40m       \u001b[0m\u001b[40m                                                                                        \u001b[0m\n",
      "\u001b[40m       \u001b[0m\u001b[40m                                                                                        \u001b[0m\n",
      "\u001b[40m       \u001b[0m\u001b[40m        \u001b[0m\u001b[40m\u001b[37mE40     \u001b[0m\u001b[40m        \u001b[0m\u001b[40m\u001b[37mE41     \u001b[0m\u001b[40m        \u001b[0m\u001b[40m\u001b[37mE42     \u001b[0m\u001b[40m        \u001b[0m\u001b[40m\u001b[37mE43     \u001b[0m\u001b[40m        \u001b[0m\u001b[40m\u001b[37mE44     \u001b[0m\u001b[40m        \u001b[0m\n",
      "\u001b[40m       \u001b[0m\u001b[40m                                                                                        \u001b[0m\n",
      "\u001b[40m       \u001b[0m\u001b[40m                                                                                        \u001b[0m\n",
      "\u001b[40m       \u001b[0m\u001b[40m\u001b[37mE45     \u001b[0m\u001b[40m\u001b[90mV20     \u001b[0m\u001b[40m\u001b[37mE46     \u001b[0m\u001b[40m\u001b[90mV21     \u001b[0m\u001b[40m\u001b[37mE47     \u001b[0m\u001b[40m\u001b[90mV22     \u001b[0m\u001b[40m\u001b[37mE48     \u001b[0m\u001b[40m\u001b[90mV23     \u001b[0m\u001b[40m\u001b[37mE49     \u001b[0m\u001b[40m\u001b[90mV24     \u001b[0m\u001b[40m\u001b[37mE45     \u001b[0m\n",
      "\u001b[40m       \u001b[0m\u001b[40m                                                                                        \u001b[0m\n",
      "\u001b[40m       \u001b[0m\u001b[40m                                                                                        \u001b[0m\n",
      "\u001b[40m       \u001b[0m\u001b[40m        \u001b[0m\u001b[40m\u001b[37mE0      \u001b[0m\u001b[40m        \u001b[0m\u001b[40m\u001b[37mE1      \u001b[0m\u001b[40m        \u001b[0m\u001b[40m\u001b[37mE2      \u001b[0m\u001b[40m        \u001b[0m\u001b[40m\u001b[37mE3      \u001b[0m\u001b[40m        \u001b[0m\u001b[40m\u001b[37mE4      \u001b[0m\u001b[40m        \u001b[0m\n",
      "\u001b[40m       \u001b[0m\u001b[40m                                                                                        \u001b[0m\n",
      "\u001b[40m       \u001b[0m\u001b[40m                                                                                        \u001b[0m\n",
      "\n"
     ]
    }
   ],
   "source": [
    "edges_to_flip = [21, 27]\n",
    "flipped_vertices = graph.mark_vertices(edges_to_flip)\n",
    "\n",
    "graph.draw_graph(edges_to_flip, flipped_vertices)"
   ]
  },
  {
   "cell_type": "markdown",
   "metadata": {},
   "source": [
    "We see that this has resulted in flipping the exact same vertices that edges `E17` and `E22` did!\n",
    "\n",
    "A similar thing can happen if the flipped edge chain crosses one of the graph boundaries.\n",
    "Consider what happens when we flip edges `E25`, `E26` and `E27`:"
   ]
  },
  {
   "cell_type": "code",
   "execution_count": 162,
   "metadata": {},
   "outputs": [
    {
     "name": "stdout",
     "output_type": "stream",
     "text": [
      "\n",
      "\u001b[1mD = 5x5 repeating graph\u001b[0m\n",
      "\n",
      "\u001b[40m       \u001b[0m\u001b[40m                                                                                        \u001b[0m\n",
      "\u001b[40m       \u001b[0m\u001b[40m                                                                                        \u001b[0m\n",
      "\u001b[40m       \u001b[0m\u001b[40m        \u001b[0m\u001b[40m\u001b[37mE0      \u001b[0m\u001b[40m        \u001b[0m\u001b[40m\u001b[37mE1      \u001b[0m\u001b[40m        \u001b[0m\u001b[40m\u001b[37mE2      \u001b[0m\u001b[40m        \u001b[0m\u001b[40m\u001b[37mE3      \u001b[0m\u001b[40m        \u001b[0m\u001b[40m\u001b[37mE4      \u001b[0m\u001b[40m        \u001b[0m\n",
      "\u001b[40m       \u001b[0m\u001b[40m                                                                                        \u001b[0m\n",
      "\u001b[40m       \u001b[0m\u001b[40m                                                                                        \u001b[0m\n",
      "\u001b[40m       \u001b[0m\u001b[40m\u001b[37mE5      \u001b[0m\u001b[40m\u001b[90mV0      \u001b[0m\u001b[40m\u001b[37mE6      \u001b[0m\u001b[40m\u001b[90mV1      \u001b[0m\u001b[40m\u001b[37mE7      \u001b[0m\u001b[40m\u001b[90mV2      \u001b[0m\u001b[40m\u001b[37mE8      \u001b[0m\u001b[40m\u001b[90mV3      \u001b[0m\u001b[40m\u001b[37mE9      \u001b[0m\u001b[40m\u001b[90mV4      \u001b[0m\u001b[40m\u001b[37mE5      \u001b[0m\n",
      "\u001b[40m       \u001b[0m\u001b[40m                                                                                        \u001b[0m\n",
      "\u001b[40m       \u001b[0m\u001b[40m                                                                                        \u001b[0m\n",
      "\u001b[40m       \u001b[0m\u001b[40m        \u001b[0m\u001b[40m\u001b[37mE10     \u001b[0m\u001b[40m        \u001b[0m\u001b[40m\u001b[37mE11     \u001b[0m\u001b[40m        \u001b[0m\u001b[40m\u001b[37mE12     \u001b[0m\u001b[40m        \u001b[0m\u001b[40m\u001b[37mE13     \u001b[0m\u001b[40m        \u001b[0m\u001b[40m\u001b[37mE14     \u001b[0m\u001b[40m        \u001b[0m\n",
      "\u001b[40m       \u001b[0m\u001b[40m                                                                                        \u001b[0m\n",
      "\u001b[40m       \u001b[0m\u001b[40m                                                                                        \u001b[0m\n",
      "\u001b[40m       \u001b[0m\u001b[40m\u001b[37mE15     \u001b[0m\u001b[40m\u001b[90mV5      \u001b[0m\u001b[40m\u001b[37mE16     \u001b[0m\u001b[40m\u001b[90mV6      \u001b[0m\u001b[40m\u001b[37mE17     \u001b[0m\u001b[40m\u001b[90mV7      \u001b[0m\u001b[40m\u001b[37mE18     \u001b[0m\u001b[40m\u001b[90mV8      \u001b[0m\u001b[40m\u001b[37mE19     \u001b[0m\u001b[40m\u001b[90mV9      \u001b[0m\u001b[40m\u001b[37mE15     \u001b[0m\n",
      "\u001b[40m       \u001b[0m\u001b[40m                                                                                        \u001b[0m\n",
      "\u001b[40m       \u001b[0m\u001b[40m                                                                                        \u001b[0m\n",
      "\u001b[40m       \u001b[0m\u001b[40m        \u001b[0m\u001b[40m\u001b[37mE20     \u001b[0m\u001b[40m        \u001b[0m\u001b[40m\u001b[37mE21     \u001b[0m\u001b[40m        \u001b[0m\u001b[40m\u001b[37mE22     \u001b[0m\u001b[40m        \u001b[0m\u001b[40m\u001b[37mE23     \u001b[0m\u001b[40m        \u001b[0m\u001b[40m\u001b[37mE24     \u001b[0m\u001b[40m        \u001b[0m\n",
      "\u001b[40m       \u001b[0m\u001b[40m                                                                                        \u001b[0m\n",
      "\u001b[40m       \u001b[0m\u001b[40m                                                                                        \u001b[0m\n",
      "\u001b[40m       \u001b[0m\u001b[40m\u001b[31mE25     \u001b[0m\u001b[40m\u001b[90mV10     \u001b[0m\u001b[40m\u001b[31mE26     \u001b[0m\u001b[40m\u001b[90mV11     \u001b[0m\u001b[40m\u001b[31mE27     \u001b[0m\u001b[1m\u001b[40m\u001b[33mV12     \u001b[0m\u001b[40m\u001b[37mE28     \u001b[0m\u001b[40m\u001b[90mV13     \u001b[0m\u001b[40m\u001b[37mE29     \u001b[0m\u001b[1m\u001b[40m\u001b[33mV14     \u001b[0m\u001b[40m\u001b[31mE25     \u001b[0m\n",
      "\u001b[40m       \u001b[0m\u001b[40m                                                                                        \u001b[0m\n",
      "\u001b[40m       \u001b[0m\u001b[40m                                                                                        \u001b[0m\n",
      "\u001b[40m       \u001b[0m\u001b[40m        \u001b[0m\u001b[40m\u001b[37mE30     \u001b[0m\u001b[40m        \u001b[0m\u001b[40m\u001b[37mE31     \u001b[0m\u001b[40m        \u001b[0m\u001b[40m\u001b[37mE32     \u001b[0m\u001b[40m        \u001b[0m\u001b[40m\u001b[37mE33     \u001b[0m\u001b[40m        \u001b[0m\u001b[40m\u001b[37mE34     \u001b[0m\u001b[40m        \u001b[0m\n",
      "\u001b[40m       \u001b[0m\u001b[40m                                                                                        \u001b[0m\n",
      "\u001b[40m       \u001b[0m\u001b[40m                                                                                        \u001b[0m\n",
      "\u001b[40m       \u001b[0m\u001b[40m\u001b[37mE35     \u001b[0m\u001b[40m\u001b[90mV15     \u001b[0m\u001b[40m\u001b[37mE36     \u001b[0m\u001b[40m\u001b[90mV16     \u001b[0m\u001b[40m\u001b[37mE37     \u001b[0m\u001b[40m\u001b[90mV17     \u001b[0m\u001b[40m\u001b[37mE38     \u001b[0m\u001b[40m\u001b[90mV18     \u001b[0m\u001b[40m\u001b[37mE39     \u001b[0m\u001b[40m\u001b[90mV19     \u001b[0m\u001b[40m\u001b[37mE35     \u001b[0m\n",
      "\u001b[40m       \u001b[0m\u001b[40m                                                                                        \u001b[0m\n",
      "\u001b[40m       \u001b[0m\u001b[40m                                                                                        \u001b[0m\n",
      "\u001b[40m       \u001b[0m\u001b[40m        \u001b[0m\u001b[40m\u001b[37mE40     \u001b[0m\u001b[40m        \u001b[0m\u001b[40m\u001b[37mE41     \u001b[0m\u001b[40m        \u001b[0m\u001b[40m\u001b[37mE42     \u001b[0m\u001b[40m        \u001b[0m\u001b[40m\u001b[37mE43     \u001b[0m\u001b[40m        \u001b[0m\u001b[40m\u001b[37mE44     \u001b[0m\u001b[40m        \u001b[0m\n",
      "\u001b[40m       \u001b[0m\u001b[40m                                                                                        \u001b[0m\n",
      "\u001b[40m       \u001b[0m\u001b[40m                                                                                        \u001b[0m\n",
      "\u001b[40m       \u001b[0m\u001b[40m\u001b[37mE45     \u001b[0m\u001b[40m\u001b[90mV20     \u001b[0m\u001b[40m\u001b[37mE46     \u001b[0m\u001b[40m\u001b[90mV21     \u001b[0m\u001b[40m\u001b[37mE47     \u001b[0m\u001b[40m\u001b[90mV22     \u001b[0m\u001b[40m\u001b[37mE48     \u001b[0m\u001b[40m\u001b[90mV23     \u001b[0m\u001b[40m\u001b[37mE49     \u001b[0m\u001b[40m\u001b[90mV24     \u001b[0m\u001b[40m\u001b[37mE45     \u001b[0m\n",
      "\u001b[40m       \u001b[0m\u001b[40m                                                                                        \u001b[0m\n",
      "\u001b[40m       \u001b[0m\u001b[40m                                                                                        \u001b[0m\n",
      "\u001b[40m       \u001b[0m\u001b[40m        \u001b[0m\u001b[40m\u001b[37mE0      \u001b[0m\u001b[40m        \u001b[0m\u001b[40m\u001b[37mE1      \u001b[0m\u001b[40m        \u001b[0m\u001b[40m\u001b[37mE2      \u001b[0m\u001b[40m        \u001b[0m\u001b[40m\u001b[37mE3      \u001b[0m\u001b[40m        \u001b[0m\u001b[40m\u001b[37mE4      \u001b[0m\u001b[40m        \u001b[0m\n",
      "\u001b[40m       \u001b[0m\u001b[40m                                                                                        \u001b[0m\n",
      "\u001b[40m       \u001b[0m\u001b[40m                                                                                        \u001b[0m\n",
      "\n"
     ]
    }
   ],
   "source": [
    "edges_to_flip = [25, 26, 27]\n",
    "flipped_vertices = graph.mark_vertices(edges_to_flip)\n",
    "\n",
    "graph.draw_graph(edges_to_flip, flipped_vertices)"
   ]
  },
  {
   "cell_type": "markdown",
   "metadata": {},
   "source": [
    "The eagle-eyed will notice the same vertices would be flipped if edges `E28` and `E29` were flipped. In fact, there are quite a few flipped-edge chains that would do this, for example:"
   ]
  },
  {
   "cell_type": "code",
   "execution_count": 163,
   "metadata": {},
   "outputs": [
    {
     "name": "stdout",
     "output_type": "stream",
     "text": [
      "\n",
      "\u001b[1mD = 5x5 repeating graph\u001b[0m\n",
      "\n",
      "\u001b[40m       \u001b[0m\u001b[40m                                                                                        \u001b[0m\n",
      "\u001b[40m       \u001b[0m\u001b[40m                                                                                        \u001b[0m\n",
      "\u001b[40m       \u001b[0m\u001b[40m        \u001b[0m\u001b[40m\u001b[37mE0      \u001b[0m\u001b[40m        \u001b[0m\u001b[40m\u001b[37mE1      \u001b[0m\u001b[40m        \u001b[0m\u001b[40m\u001b[37mE2      \u001b[0m\u001b[40m        \u001b[0m\u001b[40m\u001b[37mE3      \u001b[0m\u001b[40m        \u001b[0m\u001b[40m\u001b[37mE4      \u001b[0m\u001b[40m        \u001b[0m\n",
      "\u001b[40m       \u001b[0m\u001b[40m                                                                                        \u001b[0m\n",
      "\u001b[40m       \u001b[0m\u001b[40m                                                                                        \u001b[0m\n",
      "\u001b[40m       \u001b[0m\u001b[40m\u001b[37mE5      \u001b[0m\u001b[40m\u001b[90mV0      \u001b[0m\u001b[40m\u001b[31mE6      \u001b[0m\u001b[40m\u001b[90mV1      \u001b[0m\u001b[40m\u001b[31mE7      \u001b[0m\u001b[40m\u001b[90mV2      \u001b[0m\u001b[40m\u001b[31mE8      \u001b[0m\u001b[40m\u001b[90mV3      \u001b[0m\u001b[40m\u001b[31mE9      \u001b[0m\u001b[40m\u001b[90mV4      \u001b[0m\u001b[40m\u001b[37mE5      \u001b[0m\n",
      "\u001b[40m       \u001b[0m\u001b[40m                                                                                        \u001b[0m\n",
      "\u001b[40m       \u001b[0m\u001b[40m                                                                                        \u001b[0m\n",
      "\u001b[40m       \u001b[0m\u001b[40m        \u001b[0m\u001b[40m\u001b[31mE10     \u001b[0m\u001b[40m        \u001b[0m\u001b[40m\u001b[37mE11     \u001b[0m\u001b[40m        \u001b[0m\u001b[40m\u001b[37mE12     \u001b[0m\u001b[40m        \u001b[0m\u001b[40m\u001b[37mE13     \u001b[0m\u001b[40m        \u001b[0m\u001b[40m\u001b[31mE14     \u001b[0m\u001b[40m        \u001b[0m\n",
      "\u001b[40m       \u001b[0m\u001b[40m                                                                                        \u001b[0m\n",
      "\u001b[40m       \u001b[0m\u001b[40m                                                                                        \u001b[0m\n",
      "\u001b[40m       \u001b[0m\u001b[40m\u001b[37mE15     \u001b[0m\u001b[40m\u001b[90mV5      \u001b[0m\u001b[40m\u001b[31mE16     \u001b[0m\u001b[40m\u001b[90mV6      \u001b[0m\u001b[40m\u001b[31mE17     \u001b[0m\u001b[40m\u001b[90mV7      \u001b[0m\u001b[40m\u001b[37mE18     \u001b[0m\u001b[40m\u001b[90mV8      \u001b[0m\u001b[40m\u001b[37mE19     \u001b[0m\u001b[40m\u001b[90mV9      \u001b[0m\u001b[40m\u001b[37mE15     \u001b[0m\n",
      "\u001b[40m       \u001b[0m\u001b[40m                                                                                        \u001b[0m\n",
      "\u001b[40m       \u001b[0m\u001b[40m                                                                                        \u001b[0m\n",
      "\u001b[40m       \u001b[0m\u001b[40m        \u001b[0m\u001b[40m\u001b[37mE20     \u001b[0m\u001b[40m        \u001b[0m\u001b[40m\u001b[37mE21     \u001b[0m\u001b[40m        \u001b[0m\u001b[40m\u001b[31mE22     \u001b[0m\u001b[40m        \u001b[0m\u001b[40m\u001b[37mE23     \u001b[0m\u001b[40m        \u001b[0m\u001b[40m\u001b[31mE24     \u001b[0m\u001b[40m        \u001b[0m\n",
      "\u001b[40m       \u001b[0m\u001b[40m                                                                                        \u001b[0m\n",
      "\u001b[40m       \u001b[0m\u001b[40m                                                                                        \u001b[0m\n",
      "\u001b[40m       \u001b[0m\u001b[40m\u001b[37mE25     \u001b[0m\u001b[40m\u001b[90mV10     \u001b[0m\u001b[40m\u001b[37mE26     \u001b[0m\u001b[40m\u001b[90mV11     \u001b[0m\u001b[40m\u001b[37mE27     \u001b[0m\u001b[1m\u001b[40m\u001b[33mV12     \u001b[0m\u001b[40m\u001b[37mE28     \u001b[0m\u001b[40m\u001b[90mV13     \u001b[0m\u001b[40m\u001b[37mE29     \u001b[0m\u001b[1m\u001b[40m\u001b[33mV14     \u001b[0m\u001b[40m\u001b[37mE25     \u001b[0m\n",
      "\u001b[40m       \u001b[0m\u001b[40m                                                                                        \u001b[0m\n",
      "\u001b[40m       \u001b[0m\u001b[40m                                                                                        \u001b[0m\n",
      "\u001b[40m       \u001b[0m\u001b[40m        \u001b[0m\u001b[40m\u001b[37mE30     \u001b[0m\u001b[40m        \u001b[0m\u001b[40m\u001b[37mE31     \u001b[0m\u001b[40m        \u001b[0m\u001b[40m\u001b[37mE32     \u001b[0m\u001b[40m        \u001b[0m\u001b[40m\u001b[37mE33     \u001b[0m\u001b[40m        \u001b[0m\u001b[40m\u001b[37mE34     \u001b[0m\u001b[40m        \u001b[0m\n",
      "\u001b[40m       \u001b[0m\u001b[40m                                                                                        \u001b[0m\n",
      "\u001b[40m       \u001b[0m\u001b[40m                                                                                        \u001b[0m\n",
      "\u001b[40m       \u001b[0m\u001b[40m\u001b[37mE35     \u001b[0m\u001b[40m\u001b[90mV15     \u001b[0m\u001b[40m\u001b[37mE36     \u001b[0m\u001b[40m\u001b[90mV16     \u001b[0m\u001b[40m\u001b[37mE37     \u001b[0m\u001b[40m\u001b[90mV17     \u001b[0m\u001b[40m\u001b[37mE38     \u001b[0m\u001b[40m\u001b[90mV18     \u001b[0m\u001b[40m\u001b[37mE39     \u001b[0m\u001b[40m\u001b[90mV19     \u001b[0m\u001b[40m\u001b[37mE35     \u001b[0m\n",
      "\u001b[40m       \u001b[0m\u001b[40m                                                                                        \u001b[0m\n",
      "\u001b[40m       \u001b[0m\u001b[40m                                                                                        \u001b[0m\n",
      "\u001b[40m       \u001b[0m\u001b[40m        \u001b[0m\u001b[40m\u001b[37mE40     \u001b[0m\u001b[40m        \u001b[0m\u001b[40m\u001b[37mE41     \u001b[0m\u001b[40m        \u001b[0m\u001b[40m\u001b[37mE42     \u001b[0m\u001b[40m        \u001b[0m\u001b[40m\u001b[37mE43     \u001b[0m\u001b[40m        \u001b[0m\u001b[40m\u001b[37mE44     \u001b[0m\u001b[40m        \u001b[0m\n",
      "\u001b[40m       \u001b[0m\u001b[40m                                                                                        \u001b[0m\n",
      "\u001b[40m       \u001b[0m\u001b[40m                                                                                        \u001b[0m\n",
      "\u001b[40m       \u001b[0m\u001b[40m\u001b[37mE45     \u001b[0m\u001b[40m\u001b[90mV20     \u001b[0m\u001b[40m\u001b[37mE46     \u001b[0m\u001b[40m\u001b[90mV21     \u001b[0m\u001b[40m\u001b[37mE47     \u001b[0m\u001b[40m\u001b[90mV22     \u001b[0m\u001b[40m\u001b[37mE48     \u001b[0m\u001b[40m\u001b[90mV23     \u001b[0m\u001b[40m\u001b[37mE49     \u001b[0m\u001b[40m\u001b[90mV24     \u001b[0m\u001b[40m\u001b[37mE45     \u001b[0m\n",
      "\u001b[40m       \u001b[0m\u001b[40m                                                                                        \u001b[0m\n",
      "\u001b[40m       \u001b[0m\u001b[40m                                                                                        \u001b[0m\n",
      "\u001b[40m       \u001b[0m\u001b[40m        \u001b[0m\u001b[40m\u001b[37mE0      \u001b[0m\u001b[40m        \u001b[0m\u001b[40m\u001b[37mE1      \u001b[0m\u001b[40m        \u001b[0m\u001b[40m\u001b[37mE2      \u001b[0m\u001b[40m        \u001b[0m\u001b[40m\u001b[37mE3      \u001b[0m\u001b[40m        \u001b[0m\u001b[40m\u001b[37mE4      \u001b[0m\u001b[40m        \u001b[0m\n",
      "\u001b[40m       \u001b[0m\u001b[40m                                                                                        \u001b[0m\n",
      "\u001b[40m       \u001b[0m\u001b[40m                                                                                        \u001b[0m\n",
      "\n"
     ]
    }
   ],
   "source": [
    "edges_to_flip = [6, 7, 8, 9, 10, 14, 16, 17, 22, 24]\n",
    "flipped_vertices = graph.mark_vertices(edges_to_flip)\n",
    "\n",
    "graph.draw_graph(edges_to_flip, flipped_vertices)"
   ]
  },
  {
   "cell_type": "markdown",
   "metadata": {},
   "source": [
    "We see here that many flipped-edge chains can be equivalent with respect to the vertices that are ultimately flipped.\n",
    "\n",
    "Of course, edges flipped on different areas of the graph will result in even more flipped vertex pairs:"
   ]
  },
  {
   "cell_type": "code",
   "execution_count": 164,
   "metadata": {},
   "outputs": [
    {
     "name": "stdout",
     "output_type": "stream",
     "text": [
      "\n",
      "\u001b[1mD = 5x5 repeating graph\u001b[0m\n",
      "\n",
      "\u001b[40m       \u001b[0m\u001b[40m                                                                                        \u001b[0m\n",
      "\u001b[40m       \u001b[0m\u001b[40m                                                                                        \u001b[0m\n",
      "\u001b[40m       \u001b[0m\u001b[40m        \u001b[0m\u001b[40m\u001b[37mE0      \u001b[0m\u001b[40m        \u001b[0m\u001b[40m\u001b[37mE1      \u001b[0m\u001b[40m        \u001b[0m\u001b[40m\u001b[37mE2      \u001b[0m\u001b[40m        \u001b[0m\u001b[40m\u001b[37mE3      \u001b[0m\u001b[40m        \u001b[0m\u001b[40m\u001b[37mE4      \u001b[0m\u001b[40m        \u001b[0m\n",
      "\u001b[40m       \u001b[0m\u001b[40m                                                                                        \u001b[0m\n",
      "\u001b[40m       \u001b[0m\u001b[40m                                                                                        \u001b[0m\n",
      "\u001b[40m       \u001b[0m\u001b[40m\u001b[37mE5      \u001b[0m\u001b[40m\u001b[90mV0      \u001b[0m\u001b[40m\u001b[37mE6      \u001b[0m\u001b[40m\u001b[90mV1      \u001b[0m\u001b[40m\u001b[37mE7      \u001b[0m\u001b[1m\u001b[40m\u001b[33mV2      \u001b[0m\u001b[40m\u001b[31mE8      \u001b[0m\u001b[40m\u001b[90mV3      \u001b[0m\u001b[40m\u001b[31mE9      \u001b[0m\u001b[40m\u001b[90mV4      \u001b[0m\u001b[40m\u001b[37mE5      \u001b[0m\n",
      "\u001b[40m       \u001b[0m\u001b[40m                                                                                        \u001b[0m\n",
      "\u001b[40m       \u001b[0m\u001b[40m                                                                                        \u001b[0m\n",
      "\u001b[40m       \u001b[0m\u001b[40m        \u001b[0m\u001b[40m\u001b[37mE10     \u001b[0m\u001b[40m        \u001b[0m\u001b[40m\u001b[37mE11     \u001b[0m\u001b[40m        \u001b[0m\u001b[40m\u001b[37mE12     \u001b[0m\u001b[40m        \u001b[0m\u001b[40m\u001b[37mE13     \u001b[0m\u001b[40m        \u001b[0m\u001b[40m\u001b[31mE14     \u001b[0m\u001b[40m        \u001b[0m\n",
      "\u001b[40m       \u001b[0m\u001b[40m                                                                                        \u001b[0m\n",
      "\u001b[40m       \u001b[0m\u001b[40m                                                                                        \u001b[0m\n",
      "\u001b[40m       \u001b[0m\u001b[40m\u001b[37mE15     \u001b[0m\u001b[1m\u001b[40m\u001b[33mV5      \u001b[0m\u001b[40m\u001b[37mE16     \u001b[0m\u001b[40m\u001b[90mV6      \u001b[0m\u001b[40m\u001b[37mE17     \u001b[0m\u001b[40m\u001b[90mV7      \u001b[0m\u001b[40m\u001b[37mE18     \u001b[0m\u001b[40m\u001b[90mV8      \u001b[0m\u001b[40m\u001b[37mE19     \u001b[0m\u001b[40m\u001b[90mV9      \u001b[0m\u001b[40m\u001b[37mE15     \u001b[0m\n",
      "\u001b[40m       \u001b[0m\u001b[40m                                                                                        \u001b[0m\n",
      "\u001b[40m       \u001b[0m\u001b[40m                                                                                        \u001b[0m\n",
      "\u001b[40m       \u001b[0m\u001b[40m        \u001b[0m\u001b[40m\u001b[31mE20     \u001b[0m\u001b[40m        \u001b[0m\u001b[40m\u001b[37mE21     \u001b[0m\u001b[40m        \u001b[0m\u001b[40m\u001b[37mE22     \u001b[0m\u001b[40m        \u001b[0m\u001b[40m\u001b[37mE23     \u001b[0m\u001b[40m        \u001b[0m\u001b[40m\u001b[31mE24     \u001b[0m\u001b[40m        \u001b[0m\n",
      "\u001b[40m       \u001b[0m\u001b[40m                                                                                        \u001b[0m\n",
      "\u001b[40m       \u001b[0m\u001b[40m                                                                                        \u001b[0m\n",
      "\u001b[40m       \u001b[0m\u001b[40m\u001b[37mE25     \u001b[0m\u001b[40m\u001b[90mV10     \u001b[0m\u001b[40m\u001b[31mE26     \u001b[0m\u001b[1m\u001b[40m\u001b[33mV11     \u001b[0m\u001b[40m\u001b[37mE27     \u001b[0m\u001b[40m\u001b[90mV12     \u001b[0m\u001b[40m\u001b[37mE28     \u001b[0m\u001b[40m\u001b[90mV13     \u001b[0m\u001b[40m\u001b[37mE29     \u001b[0m\u001b[1m\u001b[40m\u001b[33mV14     \u001b[0m\u001b[40m\u001b[37mE25     \u001b[0m\n",
      "\u001b[40m       \u001b[0m\u001b[40m                                                                                        \u001b[0m\n",
      "\u001b[40m       \u001b[0m\u001b[40m                                                                                        \u001b[0m\n",
      "\u001b[40m       \u001b[0m\u001b[40m        \u001b[0m\u001b[40m\u001b[37mE30     \u001b[0m\u001b[40m        \u001b[0m\u001b[40m\u001b[37mE31     \u001b[0m\u001b[40m        \u001b[0m\u001b[40m\u001b[37mE32     \u001b[0m\u001b[40m        \u001b[0m\u001b[40m\u001b[37mE33     \u001b[0m\u001b[40m        \u001b[0m\u001b[40m\u001b[37mE34     \u001b[0m\u001b[40m        \u001b[0m\n",
      "\u001b[40m       \u001b[0m\u001b[40m                                                                                        \u001b[0m\n",
      "\u001b[40m       \u001b[0m\u001b[40m                                                                                        \u001b[0m\n",
      "\u001b[40m       \u001b[0m\u001b[40m\u001b[37mE35     \u001b[0m\u001b[40m\u001b[90mV15     \u001b[0m\u001b[40m\u001b[37mE36     \u001b[0m\u001b[40m\u001b[90mV16     \u001b[0m\u001b[40m\u001b[37mE37     \u001b[0m\u001b[40m\u001b[90mV17     \u001b[0m\u001b[40m\u001b[37mE38     \u001b[0m\u001b[40m\u001b[90mV18     \u001b[0m\u001b[40m\u001b[37mE39     \u001b[0m\u001b[40m\u001b[90mV19     \u001b[0m\u001b[40m\u001b[37mE35     \u001b[0m\n",
      "\u001b[40m       \u001b[0m\u001b[40m                                                                                        \u001b[0m\n",
      "\u001b[40m       \u001b[0m\u001b[40m                                                                                        \u001b[0m\n",
      "\u001b[40m       \u001b[0m\u001b[40m        \u001b[0m\u001b[40m\u001b[37mE40     \u001b[0m\u001b[40m        \u001b[0m\u001b[40m\u001b[37mE41     \u001b[0m\u001b[40m        \u001b[0m\u001b[40m\u001b[37mE42     \u001b[0m\u001b[40m        \u001b[0m\u001b[40m\u001b[37mE43     \u001b[0m\u001b[40m        \u001b[0m\u001b[40m\u001b[37mE44     \u001b[0m\u001b[40m        \u001b[0m\n",
      "\u001b[40m       \u001b[0m\u001b[40m                                                                                        \u001b[0m\n",
      "\u001b[40m       \u001b[0m\u001b[40m                                                                                        \u001b[0m\n",
      "\u001b[40m       \u001b[0m\u001b[40m\u001b[37mE45     \u001b[0m\u001b[40m\u001b[90mV20     \u001b[0m\u001b[40m\u001b[37mE46     \u001b[0m\u001b[40m\u001b[90mV21     \u001b[0m\u001b[40m\u001b[37mE47     \u001b[0m\u001b[40m\u001b[90mV22     \u001b[0m\u001b[40m\u001b[37mE48     \u001b[0m\u001b[40m\u001b[90mV23     \u001b[0m\u001b[40m\u001b[37mE49     \u001b[0m\u001b[40m\u001b[90mV24     \u001b[0m\u001b[40m\u001b[37mE45     \u001b[0m\n",
      "\u001b[40m       \u001b[0m\u001b[40m                                                                                        \u001b[0m\n",
      "\u001b[40m       \u001b[0m\u001b[40m                                                                                        \u001b[0m\n",
      "\u001b[40m       \u001b[0m\u001b[40m        \u001b[0m\u001b[40m\u001b[37mE0      \u001b[0m\u001b[40m        \u001b[0m\u001b[40m\u001b[37mE1      \u001b[0m\u001b[40m        \u001b[0m\u001b[40m\u001b[37mE2      \u001b[0m\u001b[40m        \u001b[0m\u001b[40m\u001b[37mE3      \u001b[0m\u001b[40m        \u001b[0m\u001b[40m\u001b[37mE4      \u001b[0m\u001b[40m        \u001b[0m\n",
      "\u001b[40m       \u001b[0m\u001b[40m                                                                                        \u001b[0m\n",
      "\u001b[40m       \u001b[0m\u001b[40m                                                                                        \u001b[0m\n",
      "\n"
     ]
    }
   ],
   "source": [
    "edges_to_flip = [8, 9, 14, 20, 24, 26]\n",
    "flipped_vertices = graph.mark_vertices(edges_to_flip)\n",
    "\n",
    "graph.draw_graph(edges_to_flip, flipped_vertices)"
   ]
  },
  {
   "cell_type": "markdown",
   "metadata": {},
   "source": [
    "What happens when an edge chain loops back on itself? This could happen two ways:\n",
    "- going from end-to-end either top/bottom or left/right;\n",
    "- forming a closed loop.\n",
    "\n",
    "Lets see what happens in these cases:"
   ]
  },
  {
   "cell_type": "code",
   "execution_count": 165,
   "metadata": {},
   "outputs": [
    {
     "name": "stdout",
     "output_type": "stream",
     "text": [
      "\n",
      "\u001b[1mD = 5x5 repeating graph\u001b[0m\n",
      "\n",
      "\u001b[40m       \u001b[0m\u001b[40m                                                                                        \u001b[0m\n",
      "\u001b[40m       \u001b[0m\u001b[40m                                                                                        \u001b[0m\n",
      "\u001b[40m       \u001b[0m\u001b[40m        \u001b[0m\u001b[40m\u001b[37mE0      \u001b[0m\u001b[40m        \u001b[0m\u001b[40m\u001b[31mE1      \u001b[0m\u001b[40m        \u001b[0m\u001b[40m\u001b[37mE2      \u001b[0m\u001b[40m        \u001b[0m\u001b[40m\u001b[37mE3      \u001b[0m\u001b[40m        \u001b[0m\u001b[40m\u001b[37mE4      \u001b[0m\u001b[40m        \u001b[0m\n",
      "\u001b[40m       \u001b[0m\u001b[40m                                                                                        \u001b[0m\n",
      "\u001b[40m       \u001b[0m\u001b[40m                                                                                        \u001b[0m\n",
      "\u001b[40m       \u001b[0m\u001b[40m\u001b[37mE5      \u001b[0m\u001b[40m\u001b[90mV0      \u001b[0m\u001b[40m\u001b[37mE6      \u001b[0m\u001b[40m\u001b[90mV1      \u001b[0m\u001b[40m\u001b[31mE7      \u001b[0m\u001b[40m\u001b[90mV2      \u001b[0m\u001b[40m\u001b[37mE8      \u001b[0m\u001b[40m\u001b[90mV3      \u001b[0m\u001b[40m\u001b[37mE9      \u001b[0m\u001b[40m\u001b[90mV4      \u001b[0m\u001b[40m\u001b[37mE5      \u001b[0m\n",
      "\u001b[40m       \u001b[0m\u001b[40m                                                                                        \u001b[0m\n",
      "\u001b[40m       \u001b[0m\u001b[40m                                                                                        \u001b[0m\n",
      "\u001b[40m       \u001b[0m\u001b[40m        \u001b[0m\u001b[40m\u001b[37mE10     \u001b[0m\u001b[40m        \u001b[0m\u001b[40m\u001b[37mE11     \u001b[0m\u001b[40m        \u001b[0m\u001b[40m\u001b[31mE12     \u001b[0m\u001b[40m        \u001b[0m\u001b[40m\u001b[37mE13     \u001b[0m\u001b[40m        \u001b[0m\u001b[40m\u001b[37mE14     \u001b[0m\u001b[40m        \u001b[0m\n",
      "\u001b[40m       \u001b[0m\u001b[40m                                                                                        \u001b[0m\n",
      "\u001b[40m       \u001b[0m\u001b[40m                                                                                        \u001b[0m\n",
      "\u001b[40m       \u001b[0m\u001b[40m\u001b[37mE15     \u001b[0m\u001b[40m\u001b[90mV5      \u001b[0m\u001b[40m\u001b[37mE16     \u001b[0m\u001b[40m\u001b[90mV6      \u001b[0m\u001b[40m\u001b[31mE17     \u001b[0m\u001b[40m\u001b[90mV7      \u001b[0m\u001b[40m\u001b[37mE18     \u001b[0m\u001b[40m\u001b[90mV8      \u001b[0m\u001b[40m\u001b[37mE19     \u001b[0m\u001b[40m\u001b[90mV9      \u001b[0m\u001b[40m\u001b[37mE15     \u001b[0m\n",
      "\u001b[40m       \u001b[0m\u001b[40m                                                                                        \u001b[0m\n",
      "\u001b[40m       \u001b[0m\u001b[40m                                                                                        \u001b[0m\n",
      "\u001b[40m       \u001b[0m\u001b[40m        \u001b[0m\u001b[40m\u001b[37mE20     \u001b[0m\u001b[40m        \u001b[0m\u001b[40m\u001b[31mE21     \u001b[0m\u001b[40m        \u001b[0m\u001b[40m\u001b[37mE22     \u001b[0m\u001b[40m        \u001b[0m\u001b[40m\u001b[37mE23     \u001b[0m\u001b[40m        \u001b[0m\u001b[40m\u001b[37mE24     \u001b[0m\u001b[40m        \u001b[0m\n",
      "\u001b[40m       \u001b[0m\u001b[40m                                                                                        \u001b[0m\n",
      "\u001b[40m       \u001b[0m\u001b[40m                                                                                        \u001b[0m\n",
      "\u001b[40m       \u001b[0m\u001b[40m\u001b[37mE25     \u001b[0m\u001b[40m\u001b[90mV10     \u001b[0m\u001b[40m\u001b[37mE26     \u001b[0m\u001b[40m\u001b[90mV11     \u001b[0m\u001b[40m\u001b[37mE27     \u001b[0m\u001b[40m\u001b[90mV12     \u001b[0m\u001b[40m\u001b[37mE28     \u001b[0m\u001b[40m\u001b[90mV13     \u001b[0m\u001b[40m\u001b[31mE29     \u001b[0m\u001b[40m\u001b[90mV14     \u001b[0m\u001b[40m\u001b[37mE25     \u001b[0m\n",
      "\u001b[40m       \u001b[0m\u001b[40m                                                                                        \u001b[0m\n",
      "\u001b[40m       \u001b[0m\u001b[40m                                                                                        \u001b[0m\n",
      "\u001b[40m       \u001b[0m\u001b[40m        \u001b[0m\u001b[40m\u001b[37mE30     \u001b[0m\u001b[40m        \u001b[0m\u001b[40m\u001b[31mE31     \u001b[0m\u001b[40m        \u001b[0m\u001b[40m\u001b[37mE32     \u001b[0m\u001b[40m        \u001b[0m\u001b[40m\u001b[31mE33     \u001b[0m\u001b[40m        \u001b[0m\u001b[40m\u001b[31mE34     \u001b[0m\u001b[40m        \u001b[0m\n",
      "\u001b[40m       \u001b[0m\u001b[40m                                                                                        \u001b[0m\n",
      "\u001b[40m       \u001b[0m\u001b[40m                                                                                        \u001b[0m\n",
      "\u001b[40m       \u001b[0m\u001b[40m\u001b[37mE35     \u001b[0m\u001b[40m\u001b[90mV15     \u001b[0m\u001b[40m\u001b[37mE36     \u001b[0m\u001b[40m\u001b[90mV16     \u001b[0m\u001b[40m\u001b[37mE37     \u001b[0m\u001b[40m\u001b[90mV17     \u001b[0m\u001b[40m\u001b[37mE38     \u001b[0m\u001b[40m\u001b[90mV18     \u001b[0m\u001b[40m\u001b[31mE39     \u001b[0m\u001b[40m\u001b[90mV19     \u001b[0m\u001b[40m\u001b[37mE35     \u001b[0m\n",
      "\u001b[40m       \u001b[0m\u001b[40m                                                                                        \u001b[0m\n",
      "\u001b[40m       \u001b[0m\u001b[40m                                                                                        \u001b[0m\n",
      "\u001b[40m       \u001b[0m\u001b[40m        \u001b[0m\u001b[40m\u001b[37mE40     \u001b[0m\u001b[40m        \u001b[0m\u001b[40m\u001b[31mE41     \u001b[0m\u001b[40m        \u001b[0m\u001b[40m\u001b[37mE42     \u001b[0m\u001b[40m        \u001b[0m\u001b[40m\u001b[37mE43     \u001b[0m\u001b[40m        \u001b[0m\u001b[40m\u001b[37mE44     \u001b[0m\u001b[40m        \u001b[0m\n",
      "\u001b[40m       \u001b[0m\u001b[40m                                                                                        \u001b[0m\n",
      "\u001b[40m       \u001b[0m\u001b[40m                                                                                        \u001b[0m\n",
      "\u001b[40m       \u001b[0m\u001b[40m\u001b[37mE45     \u001b[0m\u001b[40m\u001b[90mV20     \u001b[0m\u001b[40m\u001b[37mE46     \u001b[0m\u001b[40m\u001b[90mV21     \u001b[0m\u001b[40m\u001b[37mE47     \u001b[0m\u001b[40m\u001b[90mV22     \u001b[0m\u001b[40m\u001b[37mE48     \u001b[0m\u001b[40m\u001b[90mV23     \u001b[0m\u001b[40m\u001b[37mE49     \u001b[0m\u001b[40m\u001b[90mV24     \u001b[0m\u001b[40m\u001b[37mE45     \u001b[0m\n",
      "\u001b[40m       \u001b[0m\u001b[40m                                                                                        \u001b[0m\n",
      "\u001b[40m       \u001b[0m\u001b[40m                                                                                        \u001b[0m\n",
      "\u001b[40m       \u001b[0m\u001b[40m        \u001b[0m\u001b[40m\u001b[37mE0      \u001b[0m\u001b[40m        \u001b[0m\u001b[40m\u001b[31mE1      \u001b[0m\u001b[40m        \u001b[0m\u001b[40m\u001b[37mE2      \u001b[0m\u001b[40m        \u001b[0m\u001b[40m\u001b[37mE3      \u001b[0m\u001b[40m        \u001b[0m\u001b[40m\u001b[37mE4      \u001b[0m\u001b[40m        \u001b[0m\n",
      "\u001b[40m       \u001b[0m\u001b[40m                                                                                        \u001b[0m\n",
      "\u001b[40m       \u001b[0m\u001b[40m                                                                                        \u001b[0m\n",
      "\n"
     ]
    }
   ],
   "source": [
    "edges_to_flip = [1, 7, 12, 17, 21, 31, 41, 29, 33, 34, 39]\n",
    "flipped_vertices = graph.mark_vertices(edges_to_flip)\n",
    "\n",
    "graph.draw_graph(edges_to_flip, flipped_vertices)"
   ]
  },
  {
   "cell_type": "markdown",
   "metadata": {},
   "source": [
    "No vertices are in the `1` state! For now this isn't too important, but is interesting to note.\n",
    "\n",
    "\n",
    "## The problem to solve\n",
    "\n",
    "Now we have defined the structure of the problem, an interesting question arises: given a grid which has some of its vertices flipped, can you determine the shortest edge chains that connect pairs of the flipped vertices?\n",
    "\n",
    "In other words, how do we set the state of all flipped vertices back to `0` by flipping the smallest number of edges?\n",
    "\n",
    "For example, consider this grid:"
   ]
  },
  {
   "cell_type": "code",
   "execution_count": 166,
   "metadata": {},
   "outputs": [
    {
     "name": "stdout",
     "output_type": "stream",
     "text": [
      "\n",
      "\u001b[1mD = 6x6 repeating graph\u001b[0m\n",
      "\n",
      "\u001b[40m       \u001b[0m\u001b[40m                                                                                                        \u001b[0m\n",
      "\u001b[40m       \u001b[0m\u001b[40m                                                                                                        \u001b[0m\n",
      "\u001b[40m       \u001b[0m\u001b[40m        \u001b[0m\u001b[40m\u001b[37mE0      \u001b[0m\u001b[40m        \u001b[0m\u001b[40m\u001b[37mE1      \u001b[0m\u001b[40m        \u001b[0m\u001b[40m\u001b[37mE2      \u001b[0m\u001b[40m        \u001b[0m\u001b[40m\u001b[37mE3      \u001b[0m\u001b[40m        \u001b[0m\u001b[40m\u001b[37mE4      \u001b[0m\u001b[40m        \u001b[0m\u001b[40m\u001b[37mE5      \u001b[0m\u001b[40m        \u001b[0m\n",
      "\u001b[40m       \u001b[0m\u001b[40m                                                                                                        \u001b[0m\n",
      "\u001b[40m       \u001b[0m\u001b[40m                                                                                                        \u001b[0m\n",
      "\u001b[40m       \u001b[0m\u001b[40m\u001b[37mE6      \u001b[0m\u001b[40m\u001b[90mV0      \u001b[0m\u001b[40m\u001b[37mE7      \u001b[0m\u001b[40m\u001b[90mV1      \u001b[0m\u001b[40m\u001b[37mE8      \u001b[0m\u001b[40m\u001b[90mV2      \u001b[0m\u001b[40m\u001b[37mE9      \u001b[0m\u001b[1m\u001b[40m\u001b[33mV3      \u001b[0m\u001b[40m\u001b[37mE10     \u001b[0m\u001b[40m\u001b[90mV4      \u001b[0m\u001b[40m\u001b[37mE11     \u001b[0m\u001b[40m\u001b[90mV5      \u001b[0m\u001b[40m\u001b[37mE6      \u001b[0m\n",
      "\u001b[40m       \u001b[0m\u001b[40m                                                                                                        \u001b[0m\n",
      "\u001b[40m       \u001b[0m\u001b[40m                                                                                                        \u001b[0m\n",
      "\u001b[40m       \u001b[0m\u001b[40m        \u001b[0m\u001b[40m\u001b[37mE12     \u001b[0m\u001b[40m        \u001b[0m\u001b[40m\u001b[37mE13     \u001b[0m\u001b[40m        \u001b[0m\u001b[40m\u001b[37mE14     \u001b[0m\u001b[40m        \u001b[0m\u001b[40m\u001b[37mE15     \u001b[0m\u001b[40m        \u001b[0m\u001b[40m\u001b[37mE16     \u001b[0m\u001b[40m        \u001b[0m\u001b[40m\u001b[37mE17     \u001b[0m\u001b[40m        \u001b[0m\n",
      "\u001b[40m       \u001b[0m\u001b[40m                                                                                                        \u001b[0m\n",
      "\u001b[40m       \u001b[0m\u001b[40m                                                                                                        \u001b[0m\n",
      "\u001b[40m       \u001b[0m\u001b[40m\u001b[37mE18     \u001b[0m\u001b[40m\u001b[90mV6      \u001b[0m\u001b[40m\u001b[37mE19     \u001b[0m\u001b[40m\u001b[90mV7      \u001b[0m\u001b[40m\u001b[37mE20     \u001b[0m\u001b[40m\u001b[90mV8      \u001b[0m\u001b[40m\u001b[37mE21     \u001b[0m\u001b[40m\u001b[90mV9      \u001b[0m\u001b[40m\u001b[37mE22     \u001b[0m\u001b[40m\u001b[90mV10     \u001b[0m\u001b[40m\u001b[37mE23     \u001b[0m\u001b[40m\u001b[90mV11     \u001b[0m\u001b[40m\u001b[37mE18     \u001b[0m\n",
      "\u001b[40m       \u001b[0m\u001b[40m                                                                                                        \u001b[0m\n",
      "\u001b[40m       \u001b[0m\u001b[40m                                                                                                        \u001b[0m\n",
      "\u001b[40m       \u001b[0m\u001b[40m        \u001b[0m\u001b[40m\u001b[37mE24     \u001b[0m\u001b[40m        \u001b[0m\u001b[40m\u001b[37mE25     \u001b[0m\u001b[40m        \u001b[0m\u001b[40m\u001b[37mE26     \u001b[0m\u001b[40m        \u001b[0m\u001b[40m\u001b[37mE27     \u001b[0m\u001b[40m        \u001b[0m\u001b[40m\u001b[37mE28     \u001b[0m\u001b[40m        \u001b[0m\u001b[40m\u001b[37mE29     \u001b[0m\u001b[40m        \u001b[0m\n",
      "\u001b[40m       \u001b[0m\u001b[40m                                                                                                        \u001b[0m\n",
      "\u001b[40m       \u001b[0m\u001b[40m                                                                                                        \u001b[0m\n",
      "\u001b[40m       \u001b[0m\u001b[40m\u001b[37mE30     \u001b[0m\u001b[1m\u001b[40m\u001b[33mV12     \u001b[0m\u001b[40m\u001b[37mE31     \u001b[0m\u001b[40m\u001b[90mV13     \u001b[0m\u001b[40m\u001b[37mE32     \u001b[0m\u001b[40m\u001b[90mV14     \u001b[0m\u001b[40m\u001b[37mE33     \u001b[0m\u001b[1m\u001b[40m\u001b[33mV15     \u001b[0m\u001b[40m\u001b[37mE34     \u001b[0m\u001b[40m\u001b[90mV16     \u001b[0m\u001b[40m\u001b[37mE35     \u001b[0m\u001b[40m\u001b[90mV17     \u001b[0m\u001b[40m\u001b[37mE30     \u001b[0m\n",
      "\u001b[40m       \u001b[0m\u001b[40m                                                                                                        \u001b[0m\n",
      "\u001b[40m       \u001b[0m\u001b[40m                                                                                                        \u001b[0m\n",
      "\u001b[40m       \u001b[0m\u001b[40m        \u001b[0m\u001b[40m\u001b[37mE36     \u001b[0m\u001b[40m        \u001b[0m\u001b[40m\u001b[37mE37     \u001b[0m\u001b[40m        \u001b[0m\u001b[40m\u001b[37mE38     \u001b[0m\u001b[40m        \u001b[0m\u001b[40m\u001b[37mE39     \u001b[0m\u001b[40m        \u001b[0m\u001b[40m\u001b[37mE40     \u001b[0m\u001b[40m        \u001b[0m\u001b[40m\u001b[37mE41     \u001b[0m\u001b[40m        \u001b[0m\n",
      "\u001b[40m       \u001b[0m\u001b[40m                                                                                                        \u001b[0m\n",
      "\u001b[40m       \u001b[0m\u001b[40m                                                                                                        \u001b[0m\n",
      "\u001b[40m       \u001b[0m\u001b[40m\u001b[37mE42     \u001b[0m\u001b[40m\u001b[90mV18     \u001b[0m\u001b[40m\u001b[37mE43     \u001b[0m\u001b[1m\u001b[40m\u001b[33mV19     \u001b[0m\u001b[40m\u001b[37mE44     \u001b[0m\u001b[40m\u001b[90mV20     \u001b[0m\u001b[40m\u001b[37mE45     \u001b[0m\u001b[40m\u001b[90mV21     \u001b[0m\u001b[40m\u001b[37mE46     \u001b[0m\u001b[40m\u001b[90mV22     \u001b[0m\u001b[40m\u001b[37mE47     \u001b[0m\u001b[40m\u001b[90mV23     \u001b[0m\u001b[40m\u001b[37mE42     \u001b[0m\n",
      "\u001b[40m       \u001b[0m\u001b[40m                                                                                                        \u001b[0m\n",
      "\u001b[40m       \u001b[0m\u001b[40m                                                                                                        \u001b[0m\n",
      "\u001b[40m       \u001b[0m\u001b[40m        \u001b[0m\u001b[40m\u001b[37mE48     \u001b[0m\u001b[40m        \u001b[0m\u001b[40m\u001b[37mE49     \u001b[0m\u001b[40m        \u001b[0m\u001b[40m\u001b[37mE50     \u001b[0m\u001b[40m        \u001b[0m\u001b[40m\u001b[37mE51     \u001b[0m\u001b[40m        \u001b[0m\u001b[40m\u001b[37mE52     \u001b[0m\u001b[40m        \u001b[0m\u001b[40m\u001b[37mE53     \u001b[0m\u001b[40m        \u001b[0m\n",
      "\u001b[40m       \u001b[0m\u001b[40m                                                                                                        \u001b[0m\n",
      "\u001b[40m       \u001b[0m\u001b[40m                                                                                                        \u001b[0m\n",
      "\u001b[40m       \u001b[0m\u001b[40m\u001b[37mE54     \u001b[0m\u001b[40m\u001b[90mV24     \u001b[0m\u001b[40m\u001b[37mE55     \u001b[0m\u001b[40m\u001b[90mV25     \u001b[0m\u001b[40m\u001b[37mE56     \u001b[0m\u001b[40m\u001b[90mV26     \u001b[0m\u001b[40m\u001b[37mE57     \u001b[0m\u001b[40m\u001b[90mV27     \u001b[0m\u001b[40m\u001b[37mE58     \u001b[0m\u001b[40m\u001b[90mV28     \u001b[0m\u001b[40m\u001b[37mE59     \u001b[0m\u001b[40m\u001b[90mV29     \u001b[0m\u001b[40m\u001b[37mE54     \u001b[0m\n",
      "\u001b[40m       \u001b[0m\u001b[40m                                                                                                        \u001b[0m\n",
      "\u001b[40m       \u001b[0m\u001b[40m                                                                                                        \u001b[0m\n",
      "\u001b[40m       \u001b[0m\u001b[40m        \u001b[0m\u001b[40m\u001b[37mE60     \u001b[0m\u001b[40m        \u001b[0m\u001b[40m\u001b[37mE61     \u001b[0m\u001b[40m        \u001b[0m\u001b[40m\u001b[37mE62     \u001b[0m\u001b[40m        \u001b[0m\u001b[40m\u001b[37mE63     \u001b[0m\u001b[40m        \u001b[0m\u001b[40m\u001b[37mE64     \u001b[0m\u001b[40m        \u001b[0m\u001b[40m\u001b[37mE65     \u001b[0m\u001b[40m        \u001b[0m\n",
      "\u001b[40m       \u001b[0m\u001b[40m                                                                                                        \u001b[0m\n",
      "\u001b[40m       \u001b[0m\u001b[40m                                                                                                        \u001b[0m\n",
      "\u001b[40m       \u001b[0m\u001b[40m\u001b[37mE66     \u001b[0m\u001b[40m\u001b[90mV30     \u001b[0m\u001b[40m\u001b[37mE67     \u001b[0m\u001b[40m\u001b[90mV31     \u001b[0m\u001b[40m\u001b[37mE68     \u001b[0m\u001b[40m\u001b[90mV32     \u001b[0m\u001b[40m\u001b[37mE69     \u001b[0m\u001b[40m\u001b[90mV33     \u001b[0m\u001b[40m\u001b[37mE70     \u001b[0m\u001b[40m\u001b[90mV34     \u001b[0m\u001b[40m\u001b[37mE71     \u001b[0m\u001b[40m\u001b[90mV35     \u001b[0m\u001b[40m\u001b[37mE66     \u001b[0m\n",
      "\u001b[40m       \u001b[0m\u001b[40m                                                                                                        \u001b[0m\n",
      "\u001b[40m       \u001b[0m\u001b[40m                                                                                                        \u001b[0m\n",
      "\u001b[40m       \u001b[0m\u001b[40m        \u001b[0m\u001b[40m\u001b[37mE0      \u001b[0m\u001b[40m        \u001b[0m\u001b[40m\u001b[37mE1      \u001b[0m\u001b[40m        \u001b[0m\u001b[40m\u001b[37mE2      \u001b[0m\u001b[40m        \u001b[0m\u001b[40m\u001b[37mE3      \u001b[0m\u001b[40m        \u001b[0m\u001b[40m\u001b[37mE4      \u001b[0m\u001b[40m        \u001b[0m\u001b[40m\u001b[37mE5      \u001b[0m\u001b[40m        \u001b[0m\n",
      "\u001b[40m       \u001b[0m\u001b[40m                                                                                                        \u001b[0m\n",
      "\u001b[40m       \u001b[0m\u001b[40m                                                                                                        \u001b[0m\n",
      "\n"
     ]
    }
   ],
   "source": [
    "graph = PeriodicGridGraph(6, 6)\n",
    "flipped_vertices = [3, 12, 15, 19]\n",
    "graph.draw_graph(vertices=flipped_vertices)"
   ]
  },
  {
   "cell_type": "markdown",
   "metadata": {},
   "source": [
    "Here, the shortest path between vertices `V3` and `V15` is via edges `E15` and `E27`, so flipping these edges will reset `V3` and `V15` back to `0`.\n",
    "\n",
    "For vertices `V12` and `V19` there are two equivalent paths: via edges `E31` and `E37` or edges `E36` and `E43`.\n",
    "\n",
    "There are other paths that connect different vertex pairs, but none of these are shorter than the ones described already.\n",
    "\n",
    "What if we add a few more vertices?"
   ]
  },
  {
   "cell_type": "code",
   "execution_count": 167,
   "metadata": {},
   "outputs": [
    {
     "name": "stdout",
     "output_type": "stream",
     "text": [
      "\n",
      "\u001b[1mD = 6x6 repeating graph\u001b[0m\n",
      "\n",
      "\u001b[40m       \u001b[0m\u001b[40m                                                                                                        \u001b[0m\n",
      "\u001b[40m       \u001b[0m\u001b[40m                                                                                                        \u001b[0m\n",
      "\u001b[40m       \u001b[0m\u001b[40m        \u001b[0m\u001b[40m\u001b[37mE0      \u001b[0m\u001b[40m        \u001b[0m\u001b[40m\u001b[37mE1      \u001b[0m\u001b[40m        \u001b[0m\u001b[40m\u001b[37mE2      \u001b[0m\u001b[40m        \u001b[0m\u001b[40m\u001b[37mE3      \u001b[0m\u001b[40m        \u001b[0m\u001b[40m\u001b[37mE4      \u001b[0m\u001b[40m        \u001b[0m\u001b[40m\u001b[37mE5      \u001b[0m\u001b[40m        \u001b[0m\n",
      "\u001b[40m       \u001b[0m\u001b[40m                                                                                                        \u001b[0m\n",
      "\u001b[40m       \u001b[0m\u001b[40m                                                                                                        \u001b[0m\n",
      "\u001b[40m       \u001b[0m\u001b[40m\u001b[37mE6      \u001b[0m\u001b[1m\u001b[40m\u001b[33mV0      \u001b[0m\u001b[40m\u001b[37mE7      \u001b[0m\u001b[40m\u001b[90mV1      \u001b[0m\u001b[40m\u001b[37mE8      \u001b[0m\u001b[40m\u001b[90mV2      \u001b[0m\u001b[40m\u001b[37mE9      \u001b[0m\u001b[1m\u001b[40m\u001b[33mV3      \u001b[0m\u001b[40m\u001b[37mE10     \u001b[0m\u001b[40m\u001b[90mV4      \u001b[0m\u001b[40m\u001b[37mE11     \u001b[0m\u001b[1m\u001b[40m\u001b[33mV5      \u001b[0m\u001b[40m\u001b[37mE6      \u001b[0m\n",
      "\u001b[40m       \u001b[0m\u001b[40m                                                                                                        \u001b[0m\n",
      "\u001b[40m       \u001b[0m\u001b[40m                                                                                                        \u001b[0m\n",
      "\u001b[40m       \u001b[0m\u001b[40m        \u001b[0m\u001b[40m\u001b[37mE12     \u001b[0m\u001b[40m        \u001b[0m\u001b[40m\u001b[37mE13     \u001b[0m\u001b[40m        \u001b[0m\u001b[40m\u001b[37mE14     \u001b[0m\u001b[40m        \u001b[0m\u001b[40m\u001b[37mE15     \u001b[0m\u001b[40m        \u001b[0m\u001b[40m\u001b[37mE16     \u001b[0m\u001b[40m        \u001b[0m\u001b[40m\u001b[37mE17     \u001b[0m\u001b[40m        \u001b[0m\n",
      "\u001b[40m       \u001b[0m\u001b[40m                                                                                                        \u001b[0m\n",
      "\u001b[40m       \u001b[0m\u001b[40m                                                                                                        \u001b[0m\n",
      "\u001b[40m       \u001b[0m\u001b[40m\u001b[37mE18     \u001b[0m\u001b[40m\u001b[90mV6      \u001b[0m\u001b[40m\u001b[37mE19     \u001b[0m\u001b[40m\u001b[90mV7      \u001b[0m\u001b[40m\u001b[37mE20     \u001b[0m\u001b[40m\u001b[90mV8      \u001b[0m\u001b[40m\u001b[37mE21     \u001b[0m\u001b[40m\u001b[90mV9      \u001b[0m\u001b[40m\u001b[37mE22     \u001b[0m\u001b[40m\u001b[90mV10     \u001b[0m\u001b[40m\u001b[37mE23     \u001b[0m\u001b[40m\u001b[90mV11     \u001b[0m\u001b[40m\u001b[37mE18     \u001b[0m\n",
      "\u001b[40m       \u001b[0m\u001b[40m                                                                                                        \u001b[0m\n",
      "\u001b[40m       \u001b[0m\u001b[40m                                                                                                        \u001b[0m\n",
      "\u001b[40m       \u001b[0m\u001b[40m        \u001b[0m\u001b[40m\u001b[37mE24     \u001b[0m\u001b[40m        \u001b[0m\u001b[40m\u001b[37mE25     \u001b[0m\u001b[40m        \u001b[0m\u001b[40m\u001b[37mE26     \u001b[0m\u001b[40m        \u001b[0m\u001b[40m\u001b[37mE27     \u001b[0m\u001b[40m        \u001b[0m\u001b[40m\u001b[37mE28     \u001b[0m\u001b[40m        \u001b[0m\u001b[40m\u001b[37mE29     \u001b[0m\u001b[40m        \u001b[0m\n",
      "\u001b[40m       \u001b[0m\u001b[40m                                                                                                        \u001b[0m\n",
      "\u001b[40m       \u001b[0m\u001b[40m                                                                                                        \u001b[0m\n",
      "\u001b[40m       \u001b[0m\u001b[40m\u001b[37mE30     \u001b[0m\u001b[1m\u001b[40m\u001b[33mV12     \u001b[0m\u001b[40m\u001b[37mE31     \u001b[0m\u001b[40m\u001b[90mV13     \u001b[0m\u001b[40m\u001b[37mE32     \u001b[0m\u001b[40m\u001b[90mV14     \u001b[0m\u001b[40m\u001b[37mE33     \u001b[0m\u001b[1m\u001b[40m\u001b[33mV15     \u001b[0m\u001b[40m\u001b[37mE34     \u001b[0m\u001b[40m\u001b[90mV16     \u001b[0m\u001b[40m\u001b[37mE35     \u001b[0m\u001b[40m\u001b[90mV17     \u001b[0m\u001b[40m\u001b[37mE30     \u001b[0m\n",
      "\u001b[40m       \u001b[0m\u001b[40m                                                                                                        \u001b[0m\n",
      "\u001b[40m       \u001b[0m\u001b[40m                                                                                                        \u001b[0m\n",
      "\u001b[40m       \u001b[0m\u001b[40m        \u001b[0m\u001b[40m\u001b[37mE36     \u001b[0m\u001b[40m        \u001b[0m\u001b[40m\u001b[37mE37     \u001b[0m\u001b[40m        \u001b[0m\u001b[40m\u001b[37mE38     \u001b[0m\u001b[40m        \u001b[0m\u001b[40m\u001b[37mE39     \u001b[0m\u001b[40m        \u001b[0m\u001b[40m\u001b[37mE40     \u001b[0m\u001b[40m        \u001b[0m\u001b[40m\u001b[37mE41     \u001b[0m\u001b[40m        \u001b[0m\n",
      "\u001b[40m       \u001b[0m\u001b[40m                                                                                                        \u001b[0m\n",
      "\u001b[40m       \u001b[0m\u001b[40m                                                                                                        \u001b[0m\n",
      "\u001b[40m       \u001b[0m\u001b[40m\u001b[37mE42     \u001b[0m\u001b[40m\u001b[90mV18     \u001b[0m\u001b[40m\u001b[37mE43     \u001b[0m\u001b[1m\u001b[40m\u001b[33mV19     \u001b[0m\u001b[40m\u001b[37mE44     \u001b[0m\u001b[40m\u001b[90mV20     \u001b[0m\u001b[40m\u001b[37mE45     \u001b[0m\u001b[40m\u001b[90mV21     \u001b[0m\u001b[40m\u001b[37mE46     \u001b[0m\u001b[40m\u001b[90mV22     \u001b[0m\u001b[40m\u001b[37mE47     \u001b[0m\u001b[40m\u001b[90mV23     \u001b[0m\u001b[40m\u001b[37mE42     \u001b[0m\n",
      "\u001b[40m       \u001b[0m\u001b[40m                                                                                                        \u001b[0m\n",
      "\u001b[40m       \u001b[0m\u001b[40m                                                                                                        \u001b[0m\n",
      "\u001b[40m       \u001b[0m\u001b[40m        \u001b[0m\u001b[40m\u001b[37mE48     \u001b[0m\u001b[40m        \u001b[0m\u001b[40m\u001b[37mE49     \u001b[0m\u001b[40m        \u001b[0m\u001b[40m\u001b[37mE50     \u001b[0m\u001b[40m        \u001b[0m\u001b[40m\u001b[37mE51     \u001b[0m\u001b[40m        \u001b[0m\u001b[40m\u001b[37mE52     \u001b[0m\u001b[40m        \u001b[0m\u001b[40m\u001b[37mE53     \u001b[0m\u001b[40m        \u001b[0m\n",
      "\u001b[40m       \u001b[0m\u001b[40m                                                                                                        \u001b[0m\n",
      "\u001b[40m       \u001b[0m\u001b[40m                                                                                                        \u001b[0m\n",
      "\u001b[40m       \u001b[0m\u001b[40m\u001b[37mE54     \u001b[0m\u001b[40m\u001b[90mV24     \u001b[0m\u001b[40m\u001b[37mE55     \u001b[0m\u001b[40m\u001b[90mV25     \u001b[0m\u001b[40m\u001b[37mE56     \u001b[0m\u001b[40m\u001b[90mV26     \u001b[0m\u001b[40m\u001b[37mE57     \u001b[0m\u001b[40m\u001b[90mV27     \u001b[0m\u001b[40m\u001b[37mE58     \u001b[0m\u001b[40m\u001b[90mV28     \u001b[0m\u001b[40m\u001b[37mE59     \u001b[0m\u001b[40m\u001b[90mV29     \u001b[0m\u001b[40m\u001b[37mE54     \u001b[0m\n",
      "\u001b[40m       \u001b[0m\u001b[40m                                                                                                        \u001b[0m\n",
      "\u001b[40m       \u001b[0m\u001b[40m                                                                                                        \u001b[0m\n",
      "\u001b[40m       \u001b[0m\u001b[40m        \u001b[0m\u001b[40m\u001b[37mE60     \u001b[0m\u001b[40m        \u001b[0m\u001b[40m\u001b[37mE61     \u001b[0m\u001b[40m        \u001b[0m\u001b[40m\u001b[37mE62     \u001b[0m\u001b[40m        \u001b[0m\u001b[40m\u001b[37mE63     \u001b[0m\u001b[40m        \u001b[0m\u001b[40m\u001b[37mE64     \u001b[0m\u001b[40m        \u001b[0m\u001b[40m\u001b[37mE65     \u001b[0m\u001b[40m        \u001b[0m\n",
      "\u001b[40m       \u001b[0m\u001b[40m                                                                                                        \u001b[0m\n",
      "\u001b[40m       \u001b[0m\u001b[40m                                                                                                        \u001b[0m\n",
      "\u001b[40m       \u001b[0m\u001b[40m\u001b[37mE66     \u001b[0m\u001b[40m\u001b[90mV30     \u001b[0m\u001b[40m\u001b[37mE67     \u001b[0m\u001b[40m\u001b[90mV31     \u001b[0m\u001b[40m\u001b[37mE68     \u001b[0m\u001b[40m\u001b[90mV32     \u001b[0m\u001b[40m\u001b[37mE69     \u001b[0m\u001b[40m\u001b[90mV33     \u001b[0m\u001b[40m\u001b[37mE70     \u001b[0m\u001b[40m\u001b[90mV34     \u001b[0m\u001b[40m\u001b[37mE71     \u001b[0m\u001b[40m\u001b[90mV35     \u001b[0m\u001b[40m\u001b[37mE66     \u001b[0m\n",
      "\u001b[40m       \u001b[0m\u001b[40m                                                                                                        \u001b[0m\n",
      "\u001b[40m       \u001b[0m\u001b[40m                                                                                                        \u001b[0m\n",
      "\u001b[40m       \u001b[0m\u001b[40m        \u001b[0m\u001b[40m\u001b[37mE0      \u001b[0m\u001b[40m        \u001b[0m\u001b[40m\u001b[37mE1      \u001b[0m\u001b[40m        \u001b[0m\u001b[40m\u001b[37mE2      \u001b[0m\u001b[40m        \u001b[0m\u001b[40m\u001b[37mE3      \u001b[0m\u001b[40m        \u001b[0m\u001b[40m\u001b[37mE4      \u001b[0m\u001b[40m        \u001b[0m\u001b[40m\u001b[37mE5      \u001b[0m\u001b[40m        \u001b[0m\n",
      "\u001b[40m       \u001b[0m\u001b[40m                                                                                                        \u001b[0m\n",
      "\u001b[40m       \u001b[0m\u001b[40m                                                                                                        \u001b[0m\n",
      "\n"
     ]
    }
   ],
   "source": [
    "flipped_vertices = [0, 3, 5, 12, 15, 19]\n",
    "graph.draw_graph(vertices=flipped_vertices)"
   ]
  },
  {
   "cell_type": "markdown",
   "metadata": {},
   "source": [
    "It's tempting to say that vertices `V3` and `V5` could be paired up via edges `E10` and `E11`, leaving `V15` to be paired with some other vertex.\n",
    "\n",
    "But if we recall the periodic boundary conditions then we see that `V5` can actually be flipped by a shorter path to `V0` via edge `E6`:"
   ]
  },
  {
   "cell_type": "code",
   "execution_count": 168,
   "metadata": {},
   "outputs": [
    {
     "name": "stdout",
     "output_type": "stream",
     "text": [
      "\n",
      "\u001b[1mD = 6x6 repeating graph\u001b[0m\n",
      "\n",
      "\u001b[40m       \u001b[0m\u001b[40m                                                                                                        \u001b[0m\n",
      "\u001b[40m       \u001b[0m\u001b[40m                                                                                                        \u001b[0m\n",
      "\u001b[40m       \u001b[0m\u001b[40m        \u001b[0m\u001b[40m\u001b[37mE0      \u001b[0m\u001b[40m        \u001b[0m\u001b[40m\u001b[37mE1      \u001b[0m\u001b[40m        \u001b[0m\u001b[40m\u001b[37mE2      \u001b[0m\u001b[40m        \u001b[0m\u001b[40m\u001b[37mE3      \u001b[0m\u001b[40m        \u001b[0m\u001b[40m\u001b[37mE4      \u001b[0m\u001b[40m        \u001b[0m\u001b[40m\u001b[37mE5      \u001b[0m\u001b[40m        \u001b[0m\n",
      "\u001b[40m       \u001b[0m\u001b[40m                                                                                                        \u001b[0m\n",
      "\u001b[40m       \u001b[0m\u001b[40m                                                                                                        \u001b[0m\n",
      "\u001b[40m       \u001b[0m\u001b[40m\u001b[31mE6      \u001b[0m\u001b[1m\u001b[40m\u001b[33mV0      \u001b[0m\u001b[40m\u001b[37mE7      \u001b[0m\u001b[40m\u001b[90mV1      \u001b[0m\u001b[40m\u001b[37mE8      \u001b[0m\u001b[40m\u001b[90mV2      \u001b[0m\u001b[40m\u001b[37mE9      \u001b[0m\u001b[1m\u001b[40m\u001b[33mV3      \u001b[0m\u001b[40m\u001b[37mE10     \u001b[0m\u001b[40m\u001b[90mV4      \u001b[0m\u001b[40m\u001b[37mE11     \u001b[0m\u001b[1m\u001b[40m\u001b[33mV5      \u001b[0m\u001b[40m\u001b[31mE6      \u001b[0m\n",
      "\u001b[40m       \u001b[0m\u001b[40m                                                                                                        \u001b[0m\n",
      "\u001b[40m       \u001b[0m\u001b[40m                                                                                                        \u001b[0m\n",
      "\u001b[40m       \u001b[0m\u001b[40m        \u001b[0m\u001b[40m\u001b[37mE12     \u001b[0m\u001b[40m        \u001b[0m\u001b[40m\u001b[37mE13     \u001b[0m\u001b[40m        \u001b[0m\u001b[40m\u001b[37mE14     \u001b[0m\u001b[40m        \u001b[0m\u001b[40m\u001b[31mE15     \u001b[0m\u001b[40m        \u001b[0m\u001b[40m\u001b[37mE16     \u001b[0m\u001b[40m        \u001b[0m\u001b[40m\u001b[37mE17     \u001b[0m\u001b[40m        \u001b[0m\n",
      "\u001b[40m       \u001b[0m\u001b[40m                                                                                                        \u001b[0m\n",
      "\u001b[40m       \u001b[0m\u001b[40m                                                                                                        \u001b[0m\n",
      "\u001b[40m       \u001b[0m\u001b[40m\u001b[37mE18     \u001b[0m\u001b[40m\u001b[90mV6      \u001b[0m\u001b[40m\u001b[37mE19     \u001b[0m\u001b[40m\u001b[90mV7      \u001b[0m\u001b[40m\u001b[37mE20     \u001b[0m\u001b[40m\u001b[90mV8      \u001b[0m\u001b[40m\u001b[37mE21     \u001b[0m\u001b[40m\u001b[90mV9      \u001b[0m\u001b[40m\u001b[37mE22     \u001b[0m\u001b[40m\u001b[90mV10     \u001b[0m\u001b[40m\u001b[37mE23     \u001b[0m\u001b[40m\u001b[90mV11     \u001b[0m\u001b[40m\u001b[37mE18     \u001b[0m\n",
      "\u001b[40m       \u001b[0m\u001b[40m                                                                                                        \u001b[0m\n",
      "\u001b[40m       \u001b[0m\u001b[40m                                                                                                        \u001b[0m\n",
      "\u001b[40m       \u001b[0m\u001b[40m        \u001b[0m\u001b[40m\u001b[37mE24     \u001b[0m\u001b[40m        \u001b[0m\u001b[40m\u001b[37mE25     \u001b[0m\u001b[40m        \u001b[0m\u001b[40m\u001b[37mE26     \u001b[0m\u001b[40m        \u001b[0m\u001b[40m\u001b[31mE27     \u001b[0m\u001b[40m        \u001b[0m\u001b[40m\u001b[37mE28     \u001b[0m\u001b[40m        \u001b[0m\u001b[40m\u001b[37mE29     \u001b[0m\u001b[40m        \u001b[0m\n",
      "\u001b[40m       \u001b[0m\u001b[40m                                                                                                        \u001b[0m\n",
      "\u001b[40m       \u001b[0m\u001b[40m                                                                                                        \u001b[0m\n",
      "\u001b[40m       \u001b[0m\u001b[40m\u001b[37mE30     \u001b[0m\u001b[1m\u001b[40m\u001b[33mV12     \u001b[0m\u001b[40m\u001b[37mE31     \u001b[0m\u001b[40m\u001b[90mV13     \u001b[0m\u001b[40m\u001b[37mE32     \u001b[0m\u001b[40m\u001b[90mV14     \u001b[0m\u001b[40m\u001b[37mE33     \u001b[0m\u001b[1m\u001b[40m\u001b[33mV15     \u001b[0m\u001b[40m\u001b[37mE34     \u001b[0m\u001b[40m\u001b[90mV16     \u001b[0m\u001b[40m\u001b[37mE35     \u001b[0m\u001b[40m\u001b[90mV17     \u001b[0m\u001b[40m\u001b[37mE30     \u001b[0m\n",
      "\u001b[40m       \u001b[0m\u001b[40m                                                                                                        \u001b[0m\n",
      "\u001b[40m       \u001b[0m\u001b[40m                                                                                                        \u001b[0m\n",
      "\u001b[40m       \u001b[0m\u001b[40m        \u001b[0m\u001b[40m\u001b[31mE36     \u001b[0m\u001b[40m        \u001b[0m\u001b[40m\u001b[37mE37     \u001b[0m\u001b[40m        \u001b[0m\u001b[40m\u001b[37mE38     \u001b[0m\u001b[40m        \u001b[0m\u001b[40m\u001b[37mE39     \u001b[0m\u001b[40m        \u001b[0m\u001b[40m\u001b[37mE40     \u001b[0m\u001b[40m        \u001b[0m\u001b[40m\u001b[37mE41     \u001b[0m\u001b[40m        \u001b[0m\n",
      "\u001b[40m       \u001b[0m\u001b[40m                                                                                                        \u001b[0m\n",
      "\u001b[40m       \u001b[0m\u001b[40m                                                                                                        \u001b[0m\n",
      "\u001b[40m       \u001b[0m\u001b[40m\u001b[37mE42     \u001b[0m\u001b[40m\u001b[90mV18     \u001b[0m\u001b[40m\u001b[31mE43     \u001b[0m\u001b[1m\u001b[40m\u001b[33mV19     \u001b[0m\u001b[40m\u001b[37mE44     \u001b[0m\u001b[40m\u001b[90mV20     \u001b[0m\u001b[40m\u001b[37mE45     \u001b[0m\u001b[40m\u001b[90mV21     \u001b[0m\u001b[40m\u001b[37mE46     \u001b[0m\u001b[40m\u001b[90mV22     \u001b[0m\u001b[40m\u001b[37mE47     \u001b[0m\u001b[40m\u001b[90mV23     \u001b[0m\u001b[40m\u001b[37mE42     \u001b[0m\n",
      "\u001b[40m       \u001b[0m\u001b[40m                                                                                                        \u001b[0m\n",
      "\u001b[40m       \u001b[0m\u001b[40m                                                                                                        \u001b[0m\n",
      "\u001b[40m       \u001b[0m\u001b[40m        \u001b[0m\u001b[40m\u001b[37mE48     \u001b[0m\u001b[40m        \u001b[0m\u001b[40m\u001b[37mE49     \u001b[0m\u001b[40m        \u001b[0m\u001b[40m\u001b[37mE50     \u001b[0m\u001b[40m        \u001b[0m\u001b[40m\u001b[37mE51     \u001b[0m\u001b[40m        \u001b[0m\u001b[40m\u001b[37mE52     \u001b[0m\u001b[40m        \u001b[0m\u001b[40m\u001b[37mE53     \u001b[0m\u001b[40m        \u001b[0m\n",
      "\u001b[40m       \u001b[0m\u001b[40m                                                                                                        \u001b[0m\n",
      "\u001b[40m       \u001b[0m\u001b[40m                                                                                                        \u001b[0m\n",
      "\u001b[40m       \u001b[0m\u001b[40m\u001b[37mE54     \u001b[0m\u001b[40m\u001b[90mV24     \u001b[0m\u001b[40m\u001b[37mE55     \u001b[0m\u001b[40m\u001b[90mV25     \u001b[0m\u001b[40m\u001b[37mE56     \u001b[0m\u001b[40m\u001b[90mV26     \u001b[0m\u001b[40m\u001b[37mE57     \u001b[0m\u001b[40m\u001b[90mV27     \u001b[0m\u001b[40m\u001b[37mE58     \u001b[0m\u001b[40m\u001b[90mV28     \u001b[0m\u001b[40m\u001b[37mE59     \u001b[0m\u001b[40m\u001b[90mV29     \u001b[0m\u001b[40m\u001b[37mE54     \u001b[0m\n",
      "\u001b[40m       \u001b[0m\u001b[40m                                                                                                        \u001b[0m\n",
      "\u001b[40m       \u001b[0m\u001b[40m                                                                                                        \u001b[0m\n",
      "\u001b[40m       \u001b[0m\u001b[40m        \u001b[0m\u001b[40m\u001b[37mE60     \u001b[0m\u001b[40m        \u001b[0m\u001b[40m\u001b[37mE61     \u001b[0m\u001b[40m        \u001b[0m\u001b[40m\u001b[37mE62     \u001b[0m\u001b[40m        \u001b[0m\u001b[40m\u001b[37mE63     \u001b[0m\u001b[40m        \u001b[0m\u001b[40m\u001b[37mE64     \u001b[0m\u001b[40m        \u001b[0m\u001b[40m\u001b[37mE65     \u001b[0m\u001b[40m        \u001b[0m\n",
      "\u001b[40m       \u001b[0m\u001b[40m                                                                                                        \u001b[0m\n",
      "\u001b[40m       \u001b[0m\u001b[40m                                                                                                        \u001b[0m\n",
      "\u001b[40m       \u001b[0m\u001b[40m\u001b[37mE66     \u001b[0m\u001b[40m\u001b[90mV30     \u001b[0m\u001b[40m\u001b[37mE67     \u001b[0m\u001b[40m\u001b[90mV31     \u001b[0m\u001b[40m\u001b[37mE68     \u001b[0m\u001b[40m\u001b[90mV32     \u001b[0m\u001b[40m\u001b[37mE69     \u001b[0m\u001b[40m\u001b[90mV33     \u001b[0m\u001b[40m\u001b[37mE70     \u001b[0m\u001b[40m\u001b[90mV34     \u001b[0m\u001b[40m\u001b[37mE71     \u001b[0m\u001b[40m\u001b[90mV35     \u001b[0m\u001b[40m\u001b[37mE66     \u001b[0m\n",
      "\u001b[40m       \u001b[0m\u001b[40m                                                                                                        \u001b[0m\n",
      "\u001b[40m       \u001b[0m\u001b[40m                                                                                                        \u001b[0m\n",
      "\u001b[40m       \u001b[0m\u001b[40m        \u001b[0m\u001b[40m\u001b[37mE0      \u001b[0m\u001b[40m        \u001b[0m\u001b[40m\u001b[37mE1      \u001b[0m\u001b[40m        \u001b[0m\u001b[40m\u001b[37mE2      \u001b[0m\u001b[40m        \u001b[0m\u001b[40m\u001b[37mE3      \u001b[0m\u001b[40m        \u001b[0m\u001b[40m\u001b[37mE4      \u001b[0m\u001b[40m        \u001b[0m\u001b[40m\u001b[37mE5      \u001b[0m\u001b[40m        \u001b[0m\n",
      "\u001b[40m       \u001b[0m\u001b[40m                                                                                                        \u001b[0m\n",
      "\u001b[40m       \u001b[0m\u001b[40m                                                                                                        \u001b[0m\n",
      "\n"
     ]
    }
   ],
   "source": [
    "flipped_vertices = [0, 3, 5, 12, 15, 19]\n",
    "flipped_edges = [6, 15, 27, 36, 43]\n",
    "graph.draw_graph(vertices=flipped_vertices, edges=flipped_edges)"
   ]
  },
  {
   "cell_type": "markdown",
   "metadata": {},
   "source": [
    "So, can we come up with an algorithm that helps solves this puzzle?"
   ]
  }
 ],
 "metadata": {
  "kernelspec": {
   "display_name": "Python 3.9.16 64-bit",
   "language": "python",
   "name": "python3"
  },
  "language_info": {
   "codemirror_mode": {
    "name": "ipython",
    "version": 3
   },
   "file_extension": ".py",
   "mimetype": "text/x-python",
   "name": "python",
   "nbconvert_exporter": "python",
   "pygments_lexer": "ipython3",
   "version": "3.9.16"
  },
  "orig_nbformat": 4,
  "vscode": {
   "interpreter": {
    "hash": "949777d72b0d2535278d3dc13498b2535136f6dfe0678499012e853ee9abcab1"
   }
  }
 },
 "nbformat": 4,
 "nbformat_minor": 2
}
